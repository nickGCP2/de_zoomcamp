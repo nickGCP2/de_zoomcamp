{
 "cells": [
  {
   "cell_type": "markdown",
   "id": "816d1809",
   "metadata": {},
   "source": [
    "### Importing required libraries"
   ]
  },
  {
   "cell_type": "code",
   "execution_count": 21,
   "id": "88ed5f6f",
   "metadata": {},
   "outputs": [],
   "source": [
    "from datetime import datetime\n",
    "from collections import namedtuple\n",
    "\n",
    "import pyspark\n",
    "from pyspark.sql import SparkSession\n",
    "from pyspark.sql.functions import col\n",
    "from pyspark.sql import functions as F\n",
    "from pyspark.sql import types"
   ]
  },
  {
   "cell_type": "markdown",
   "id": "b04110f9",
   "metadata": {},
   "source": [
    "### Starting Spark Session"
   ]
  },
  {
   "cell_type": "code",
   "execution_count": 3,
   "id": "16069abc",
   "metadata": {},
   "outputs": [
    {
     "name": "stderr",
     "output_type": "stream",
     "text": [
      "WARNING: An illegal reflective access operation has occurred\n",
      "WARNING: Illegal reflective access by org.apache.spark.unsafe.Platform (file:/home/Naveen/spark/spark-3.0.3-bin-hadoop3.2/jars/spark-unsafe_2.12-3.0.3.jar) to constructor java.nio.DirectByteBuffer(long,int)\n",
      "WARNING: Please consider reporting this to the maintainers of org.apache.spark.unsafe.Platform\n",
      "WARNING: Use --illegal-access=warn to enable warnings of further illegal reflective access operations\n",
      "WARNING: All illegal access operations will be denied in a future release\n",
      "22/06/09 11:33:41 WARN NativeCodeLoader: Unable to load native-hadoop library for your platform... using builtin-java classes where applicable\n",
      "Using Spark's default log4j profile: org/apache/spark/log4j-defaults.properties\n",
      "Setting default log level to \"WARN\".\n",
      "To adjust logging level use sc.setLogLevel(newLevel). For SparkR, use setLogLevel(newLevel).\n"
     ]
    }
   ],
   "source": [
    "spark = SparkSession.builder \\\n",
    "        .master(\"local[*]\") \\\n",
    "        .appName('test') \\\n",
    "        .getOrCreate()"
   ]
  },
  {
   "cell_type": "code",
   "execution_count": 8,
   "id": "85966779",
   "metadata": {},
   "outputs": [
    {
     "data": {
      "text/plain": [
       "'3.0.3'"
      ]
     },
     "execution_count": 8,
     "metadata": {},
     "output_type": "execute_result"
    }
   ],
   "source": [
    "spark.version"
   ]
  },
  {
   "cell_type": "markdown",
   "id": "a93a91a7",
   "metadata": {},
   "source": [
    "### Downloading FHVHV Feb  File and repartitioning"
   ]
  },
  {
   "cell_type": "code",
   "execution_count": 9,
   "id": "42b30c4d",
   "metadata": {},
   "outputs": [
    {
     "name": "stdout",
     "output_type": "stream",
     "text": [
      "basic_operations_in_spark.ipynb  head.csv\t    spark_rdd.ipynb\r\n",
      "data\t\t\t\t lib\t\t    taxi+_zone_lookup.csv\r\n",
      "download_data.sh\t\t schema.md\t    test.ipynb\r\n",
      "fhv_tripdata1.csv\t\t sparkSQL.md\t    tmp\r\n",
      "fhvhv_parquet\t\t\t spark_gcs.ipynb    week5_hw.ipynb\r\n",
      "fhvhv_tripdata_2021-01.parquet\t spark_local.ipynb  zones\r\n",
      "fhvhv_tripdata_2021-02.parquet\t spark_local.py\r\n"
     ]
    }
   ],
   "source": [
    "!ls"
   ]
  },
  {
   "cell_type": "code",
   "execution_count": 6,
   "id": "8c0130e7",
   "metadata": {},
   "outputs": [
    {
     "name": "stdout",
     "output_type": "stream",
     "text": [
      "--2022-06-09 11:34:19--  https://nyc-tlc.s3.amazonaws.com/trip+data/fhvhv_tripdata_2021-02.parquet\n",
      "Resolving nyc-tlc.s3.amazonaws.com (nyc-tlc.s3.amazonaws.com)... 52.217.139.241\n",
      "Connecting to nyc-tlc.s3.amazonaws.com (nyc-tlc.s3.amazonaws.com)|52.217.139.241|:443... connected.\n",
      "HTTP request sent, awaiting response... 200 OK\n",
      "Length: 302633211 (289M) [application/x-www-form-urlencoded]\n",
      "Saving to: ‘fhvhv_tripdata_2021-02.parquet’\n",
      "\n",
      "fhvhv_tripdata_2021 100%[===================>] 288.61M  19.6MB/s    in 11s     \n",
      "\n",
      "2022-06-09 11:34:31 (25.5 MB/s) - ‘fhvhv_tripdata_2021-02.parquet’ saved [302633211/302633211]\n",
      "\n"
     ]
    }
   ],
   "source": [
    "!wget https://nyc-tlc.s3.amazonaws.com/trip+data/fhvhv_tripdata_2021-02.parquet"
   ]
  },
  {
   "cell_type": "code",
   "execution_count": 7,
   "id": "93b23593",
   "metadata": {},
   "outputs": [
    {
     "name": "stdout",
     "output_type": "stream",
     "text": [
      "basic_operations_in_spark.ipynb  head.csv\t    spark_rdd.ipynb\r\n",
      "data\t\t\t\t lib\t\t    taxi+_zone_lookup.csv\r\n",
      "download_data.sh\t\t schema.md\t    test.ipynb\r\n",
      "fhv_tripdata1.csv\t\t sparkSQL.md\t    tmp\r\n",
      "fhvhv_parquet\t\t\t spark_gcs.ipynb    week5_hw.ipynb\r\n",
      "fhvhv_tripdata_2021-01.parquet\t spark_local.ipynb  zones\r\n",
      "fhvhv_tripdata_2021-02.parquet\t spark_local.py\r\n"
     ]
    }
   ],
   "source": [
    "!ls"
   ]
  },
  {
   "cell_type": "code",
   "execution_count": 11,
   "id": "c31855b4",
   "metadata": {},
   "outputs": [],
   "source": [
    "schema = types.StructType([\n",
    "  types.StructField('hvfhs_license_num', types.StringType(), True),\n",
    "  types.StructField('dispatching_base_num', types.StringType(), True),\n",
    "  types.StructField('originating_base_num', types.StringType(), True),\n",
    "  types.StructField('request_datetime', types.TimestampType(), True),\n",
    "  types.StructField('on_scene_datetime', types.TimestampType(), True),\n",
    "  types.StructField('pickup_datetime', types.TimestampType(), True),\n",
    "  types.StructField('dropoff_datetime', types.TimestampType(), True),\n",
    "  types.StructField('PULocationID', types.LongType(), True),\n",
    "  types.StructField('DOLocationID', types.LongType(), True),\n",
    "  types.StructField('trip_miles', types.DoubleType(), True),\n",
    "  types.StructField('trip_time', types.LongType(), True),\n",
    "  types.StructField('base_passenger_fare', types.DoubleType(), True),\n",
    "  types.StructField('tolls', types.DoubleType(), True),\n",
    "  types.StructField('bcf', types.DoubleType(), True),\n",
    "  types.StructField('sales_tax', types.DoubleType(), True),\n",
    "  types.StructField('congestion_surcharge', types.DoubleType(), True),\n",
    "  types.StructField('airport_fee', types.DoubleType(), True),\n",
    "  types.StructField('tips', types.DoubleType(), True),\n",
    "  types.StructField('driver_pay', types.DoubleType(), True),\n",
    "  types.StructField('shared_request_flag', types.StringType(), True),\n",
    "  types.StructField('shared_match_flag', types.StringType(), True),\n",
    "  types.StructField('access_a_ride_flag', types.StringType(), True),\n",
    "  types.StructField('wav_request_flag', types.StringType(), True),\n",
    "  types.StructField('wav_match_flag', types.StringType(), True)\n",
    "])"
   ]
  },
  {
   "cell_type": "code",
   "execution_count": 12,
   "id": "c1fa9783",
   "metadata": {},
   "outputs": [],
   "source": [
    "df = spark.read.schema(schema).parquet('fhvhv_tripdata_2021-02.parquet')"
   ]
  },
  {
   "cell_type": "code",
   "execution_count": 13,
   "id": "e639c11d",
   "metadata": {},
   "outputs": [
    {
     "name": "stderr",
     "output_type": "stream",
     "text": [
      "                                                                                \r"
     ]
    }
   ],
   "source": [
    "df.repartition(24) \\\n",
    "    .write \\\n",
    "    .parquet('fhvhv_parquet/2021/02/')"
   ]
  },
  {
   "cell_type": "markdown",
   "id": "0336053b",
   "metadata": {},
   "source": [
    "### Size of the folder"
   ]
  },
  {
   "cell_type": "code",
   "execution_count": 16,
   "id": "c187b950",
   "metadata": {},
   "outputs": [
    {
     "name": "stdout",
     "output_type": "stream",
     "text": [
      "total 511M\r\n",
      "-rw-r--r-- 1 Naveen Naveen   0 Jun  9 11:39 _SUCCESS\r\n",
      "-rw-r--r-- 1 Naveen Naveen 22M Jun  9 11:39 part-00000-99743572-0fbb-415e-bb97-2a1fc18fce9b-c000.snappy.parquet\r\n",
      "-rw-r--r-- 1 Naveen Naveen 22M Jun  9 11:39 part-00001-99743572-0fbb-415e-bb97-2a1fc18fce9b-c000.snappy.parquet\r\n",
      "-rw-r--r-- 1 Naveen Naveen 22M Jun  9 11:39 part-00002-99743572-0fbb-415e-bb97-2a1fc18fce9b-c000.snappy.parquet\r\n",
      "-rw-r--r-- 1 Naveen Naveen 22M Jun  9 11:39 part-00003-99743572-0fbb-415e-bb97-2a1fc18fce9b-c000.snappy.parquet\r\n",
      "-rw-r--r-- 1 Naveen Naveen 22M Jun  9 11:39 part-00004-99743572-0fbb-415e-bb97-2a1fc18fce9b-c000.snappy.parquet\r\n",
      "-rw-r--r-- 1 Naveen Naveen 22M Jun  9 11:39 part-00005-99743572-0fbb-415e-bb97-2a1fc18fce9b-c000.snappy.parquet\r\n",
      "-rw-r--r-- 1 Naveen Naveen 22M Jun  9 11:39 part-00006-99743572-0fbb-415e-bb97-2a1fc18fce9b-c000.snappy.parquet\r\n",
      "-rw-r--r-- 1 Naveen Naveen 22M Jun  9 11:39 part-00007-99743572-0fbb-415e-bb97-2a1fc18fce9b-c000.snappy.parquet\r\n",
      "-rw-r--r-- 1 Naveen Naveen 22M Jun  9 11:39 part-00008-99743572-0fbb-415e-bb97-2a1fc18fce9b-c000.snappy.parquet\r\n",
      "-rw-r--r-- 1 Naveen Naveen 22M Jun  9 11:39 part-00009-99743572-0fbb-415e-bb97-2a1fc18fce9b-c000.snappy.parquet\r\n",
      "-rw-r--r-- 1 Naveen Naveen 22M Jun  9 11:39 part-00010-99743572-0fbb-415e-bb97-2a1fc18fce9b-c000.snappy.parquet\r\n",
      "-rw-r--r-- 1 Naveen Naveen 22M Jun  9 11:39 part-00011-99743572-0fbb-415e-bb97-2a1fc18fce9b-c000.snappy.parquet\r\n",
      "-rw-r--r-- 1 Naveen Naveen 22M Jun  9 11:39 part-00012-99743572-0fbb-415e-bb97-2a1fc18fce9b-c000.snappy.parquet\r\n",
      "-rw-r--r-- 1 Naveen Naveen 22M Jun  9 11:39 part-00013-99743572-0fbb-415e-bb97-2a1fc18fce9b-c000.snappy.parquet\r\n",
      "-rw-r--r-- 1 Naveen Naveen 22M Jun  9 11:39 part-00014-99743572-0fbb-415e-bb97-2a1fc18fce9b-c000.snappy.parquet\r\n",
      "-rw-r--r-- 1 Naveen Naveen 22M Jun  9 11:39 part-00015-99743572-0fbb-415e-bb97-2a1fc18fce9b-c000.snappy.parquet\r\n",
      "-rw-r--r-- 1 Naveen Naveen 22M Jun  9 11:39 part-00016-99743572-0fbb-415e-bb97-2a1fc18fce9b-c000.snappy.parquet\r\n",
      "-rw-r--r-- 1 Naveen Naveen 22M Jun  9 11:39 part-00017-99743572-0fbb-415e-bb97-2a1fc18fce9b-c000.snappy.parquet\r\n",
      "-rw-r--r-- 1 Naveen Naveen 22M Jun  9 11:39 part-00018-99743572-0fbb-415e-bb97-2a1fc18fce9b-c000.snappy.parquet\r\n",
      "-rw-r--r-- 1 Naveen Naveen 22M Jun  9 11:39 part-00019-99743572-0fbb-415e-bb97-2a1fc18fce9b-c000.snappy.parquet\r\n",
      "-rw-r--r-- 1 Naveen Naveen 22M Jun  9 11:39 part-00020-99743572-0fbb-415e-bb97-2a1fc18fce9b-c000.snappy.parquet\r\n",
      "-rw-r--r-- 1 Naveen Naveen 22M Jun  9 11:39 part-00021-99743572-0fbb-415e-bb97-2a1fc18fce9b-c000.snappy.parquet\r\n",
      "-rw-r--r-- 1 Naveen Naveen 22M Jun  9 11:39 part-00022-99743572-0fbb-415e-bb97-2a1fc18fce9b-c000.snappy.parquet\r\n",
      "-rw-r--r-- 1 Naveen Naveen 22M Jun  9 11:39 part-00023-99743572-0fbb-415e-bb97-2a1fc18fce9b-c000.snappy.parquet\r\n"
     ]
    }
   ],
   "source": [
    "!ls -lh fhvhv_parquet/2021/02"
   ]
  },
  {
   "cell_type": "markdown",
   "id": "18106983",
   "metadata": {},
   "source": [
    "### Counting Trips on Feb 15?"
   ]
  },
  {
   "cell_type": "code",
   "execution_count": 18,
   "id": "6b48bdf5",
   "metadata": {},
   "outputs": [],
   "source": [
    "df1 = spark.read.schema(schema).parquet('fhvhv_parquet/2021/02/')"
   ]
  },
  {
   "cell_type": "code",
   "execution_count": 19,
   "id": "4ddf3d79",
   "metadata": {},
   "outputs": [
    {
     "name": "stdout",
     "output_type": "stream",
     "text": [
      "+-----------------+--------------------+--------------------+-------------------+-------------------+-------------------+-------------------+------------+------------+----------+---------+-------------------+-----+----+---------+--------------------+-----------+----+----------+-------------------+-----------------+------------------+----------------+--------------+\n",
      "|hvfhs_license_num|dispatching_base_num|originating_base_num|   request_datetime|  on_scene_datetime|    pickup_datetime|   dropoff_datetime|PULocationID|DOLocationID|trip_miles|trip_time|base_passenger_fare|tolls| bcf|sales_tax|congestion_surcharge|airport_fee|tips|driver_pay|shared_request_flag|shared_match_flag|access_a_ride_flag|wav_request_flag|wav_match_flag|\n",
      "+-----------------+--------------------+--------------------+-------------------+-------------------+-------------------+-------------------+------------+------------+----------+---------+-------------------+-----+----+---------+--------------------+-----------+----+----------+-------------------+-----------------+------------------+----------------+--------------+\n",
      "|           HV0005|              B02510|                null|2021-02-11 20:34:28|               null|2021-02-11 20:38:00|2021-02-11 20:42:37|         174|         241|     0.726|      277|               6.85|  0.0|0.21|     0.61|                 0.0|       null| 0.0|      5.47|                  N|                N|                 N|               N|             N|\n",
      "|           HV0003|              B02876|              B02876|2021-02-13 23:04:41|2021-02-13 23:07:38|2021-02-13 23:07:38|2021-02-13 23:12:57|         230|          68|      0.95|      319|               6.84|  0.0|0.21|     0.63|                2.75|       null| 0.0|      6.89|                  N|                N|                  |               N|             N|\n",
      "|           HV0003|              B02882|              B02882|2021-02-28 20:36:52|2021-02-28 20:50:21|2021-02-28 20:52:18|2021-02-28 21:01:00|         205|         122|      1.96|      522|              10.36|  0.0|0.31|     0.92|                 0.0|       null| 0.0|      8.06|                  N|                N|                  |               N|             N|\n",
      "|           HV0003|              B02512|              B02512|2021-02-18 07:02:29|2021-02-18 07:03:34|2021-02-18 07:04:10|2021-02-18 07:17:13|         143|         169|      7.95|      783|              22.32|  0.0|0.67|     1.98|                2.75|       null| 0.0|     15.33|                  N|                N|                  |               N|             N|\n",
      "|           HV0003|              B02872|              B02872|2021-02-05 15:55:54|2021-02-05 16:00:36|2021-02-05 16:00:36|2021-02-05 16:10:44|          20|          18|      1.04|      608|               9.59|  0.0|0.29|     0.85|                 0.0|       null| 3.0|      9.49|                  N|                N|                  |               N|             N|\n",
      "|           HV0003|              B02765|              B02765|2021-02-17 09:35:58|2021-02-17 09:41:16|2021-02-17 09:41:44|2021-02-17 09:58:46|          33|          87|      3.41|     1022|              16.94|  0.0|0.51|      1.5|                2.75|       null| 0.0|     12.32|                  N|                N|                  |               N|             N|\n",
      "|           HV0003|              B02869|              B02869|2021-02-18 14:07:39|2021-02-18 14:11:35|2021-02-18 14:12:30|2021-02-18 14:17:29|         216|         216|      0.68|      299|                8.7|  0.0|0.26|     0.77|                 0.0|       null| 0.0|      7.95|                  N|                N|                  |               N|             N|\n",
      "|           HV0003|              B02764|              B02764|2021-02-04 17:31:26|2021-02-04 17:31:52|2021-02-04 17:33:08|2021-02-04 17:38:40|         162|         233|      1.27|      332|              17.49|  0.0|0.52|     1.55|                2.75|       null|3.34|     15.57|                  N|                N|                  |               N|             N|\n",
      "|           HV0005|              B02510|                null|2021-02-25 12:20:03|               null|2021-02-25 12:26:01|2021-02-25 13:36:41|         113|          35|     8.335|     4240|              45.13| 1.12|1.39|      4.1|                2.75|       null|8.17|     44.77|                  N|                N|                 N|               N|             N|\n",
      "|           HV0003|              B02764|              B02764|2021-02-23 16:59:46|2021-02-23 17:02:22|2021-02-23 17:02:22|2021-02-23 17:18:22|         113|          13|      2.63|      960|              16.74|  0.0| 0.5|     1.49|                2.75|       null| 0.0|     10.93|                  N|                N|                  |               N|             N|\n",
      "|           HV0003|              B02682|              B02682|2021-02-23 01:40:52|2021-02-23 01:43:29|2021-02-23 01:44:49|2021-02-23 01:53:55|         225|         225|      1.75|      546|               7.87|  0.0|0.24|      0.7|                 0.0|       null| 0.0|       6.5|                  N|                N|                  |               N|             N|\n",
      "|           HV0003|              B02864|              B02864|2021-02-08 07:28:21|2021-02-08 07:38:28|2021-02-08 07:38:28|2021-02-08 08:08:40|         146|          53|      9.25|     1812|              43.13|  0.0|1.29|     3.83|                 0.0|       null| 0.0|     29.87|                  N|                N|                  |               N|             N|\n",
      "|           HV0005|              B02510|                null|2021-02-06 08:03:51|               null|2021-02-06 08:07:44|2021-02-06 08:28:51|          15|          95|     8.616|     1267|              22.32|  0.0|0.67|     1.98|                 0.0|       null| 0.0|     20.17|                  N|                N|                 N|               N|             N|\n",
      "|           HV0005|              B02510|                null|2021-02-21 20:50:33|               null|2021-02-21 20:53:02|2021-02-21 20:59:20|         170|         234|     1.074|      378|               7.85|  0.0|0.24|      0.7|                2.75|       null| 0.0|      5.47|                  N|                N|                 N|               N|             N|\n",
      "|           HV0003|              B02871|              B02871|2021-02-19 19:05:10|2021-02-19 19:10:44|2021-02-19 19:12:15|2021-02-19 19:31:54|         233|         158|      3.25|     1179|              28.88|  0.0|0.87|     2.56|                2.75|       null| 0.0|     25.69|                  N|                N|                  |               N|             Y|\n",
      "|           HV0003|              B02835|              B02835|2021-02-06 08:40:04|2021-02-06 08:42:49|2021-02-06 08:43:06|2021-02-06 08:51:16|         151|          41|      1.42|      490|               8.86|  0.0|0.27|     0.79|                 0.0|       null| 0.0|      5.67|                  N|                N|                  |               N|             N|\n",
      "|           HV0005|              B02510|                null|2021-02-27 13:49:33|               null|2021-02-27 13:54:56|2021-02-27 14:05:16|         164|         233|      1.66|      620|               9.16|  0.0|0.27|     0.81|                2.75|       null| 0.0|      7.03|                  N|                N|                 N|               N|             N|\n",
      "|           HV0003|              B02867|              B02867|2021-02-22 17:33:22|2021-02-22 17:36:04|2021-02-22 17:36:33|2021-02-22 18:02:22|         181|         256|       6.0|     1549|              24.16|  0.0|0.72|     2.14|                 0.0|       null| 0.0|     22.12|                  N|                N|                  |               N|             N|\n",
      "|           HV0003|              B02872|              B02872|2021-02-17 20:05:57|2021-02-17 20:09:54|2021-02-17 20:10:33|2021-02-17 20:23:37|          56|          95|      2.29|      784|              11.46|  0.0|0.34|     1.02|                 0.0|       null| 0.0|       9.9|                  N|                N|                  |               N|             N|\n",
      "|           HV0003|              B02764|              B02764|2021-02-18 14:30:52|2021-02-18 14:34:19|2021-02-18 14:34:38|2021-02-18 14:47:13|         143|         237|      2.15|      755|              12.85|  0.0|0.39|     1.14|                2.75|       null| 0.0|      8.69|                  N|                N|                  |               N|             N|\n",
      "+-----------------+--------------------+--------------------+-------------------+-------------------+-------------------+-------------------+------------+------------+----------+---------+-------------------+-----+----+---------+--------------------+-----------+----+----------+-------------------+-----------------+------------------+----------------+--------------+\n",
      "only showing top 20 rows\n",
      "\n"
     ]
    }
   ],
   "source": [
    "df1.show()"
   ]
  },
  {
   "cell_type": "markdown",
   "id": "6c4e3049",
   "metadata": {},
   "source": [
    "- Using Spark itself"
   ]
  },
  {
   "cell_type": "code",
   "execution_count": 25,
   "id": "2378ad1d",
   "metadata": {},
   "outputs": [
    {
     "name": "stderr",
     "output_type": "stream",
     "text": [
      "                                                                                \r"
     ]
    },
    {
     "name": "stdout",
     "output_type": "stream",
     "text": [
      "+-----------+------+\n",
      "|pickup_date| count|\n",
      "+-----------+------+\n",
      "| 2021-02-15|367170|\n",
      "+-----------+------+\n",
      "\n"
     ]
    }
   ],
   "source": [
    "df1 \\\n",
    "    .withColumn('pickup_date', F.to_date(df1.pickup_datetime)) \\\n",
    "    .filter(\"pickup_date = '2021-02-15'\") \\\n",
    "    .groupBy('pickup_date') \\\n",
    "    .count() \\\n",
    "    .show()"
   ]
  },
  {
   "cell_type": "markdown",
   "id": "403c892d",
   "metadata": {},
   "source": [
    "- Using sparkSQL"
   ]
  },
  {
   "cell_type": "code",
   "execution_count": 26,
   "id": "17ba68be",
   "metadata": {},
   "outputs": [],
   "source": [
    "df.registerTempTable('fhvhv_2021_02')"
   ]
  },
  {
   "cell_type": "code",
   "execution_count": 31,
   "id": "04df90db",
   "metadata": {},
   "outputs": [
    {
     "name": "stderr",
     "output_type": "stream",
     "text": [
      "\r",
      "[Stage 21:===========================================>              (3 + 1) / 4]\r"
     ]
    },
    {
     "name": "stdout",
     "output_type": "stream",
     "text": [
      "+--------+\n",
      "|count(1)|\n",
      "+--------+\n",
      "|  367170|\n",
      "+--------+\n",
      "\n"
     ]
    },
    {
     "name": "stderr",
     "output_type": "stream",
     "text": [
      "\r",
      "                                                                                \r"
     ]
    }
   ],
   "source": [
    "spark.sql(\"\"\"\n",
    "SELECT \n",
    "    COUNT(1)\n",
    "FROM \n",
    "    fhvhv_2021_02\n",
    "WHERE \n",
    "    to_date(pickup_datetime) = '2021-02-15';\n",
    "\"\"\").show()"
   ]
  },
  {
   "cell_type": "markdown",
   "id": "82125f2f",
   "metadata": {},
   "source": [
    "### Longest Trip for each day"
   ]
  },
  {
   "cell_type": "markdown",
   "id": "981f0b3f",
   "metadata": {},
   "source": [
    "- Using Spark Directly"
   ]
  },
  {
   "cell_type": "code",
   "execution_count": 77,
   "id": "fe90d0e5",
   "metadata": {},
   "outputs": [
    {
     "name": "stderr",
     "output_type": "stream",
     "text": [
      "[Stage 112:=============================================>           (4 + 1) / 5]\r"
     ]
    },
    {
     "name": "stdout",
     "output_type": "stream",
     "text": [
      "+-----------+-------------------+\n",
      "|pickup_date|      max(duration)|\n",
      "+-----------+-------------------+\n",
      "| 2021-02-11|1970-01-01 20:59:00|\n",
      "| 2021-02-17|1970-01-01 15:53:41|\n",
      "| 2021-02-20|1970-01-01 12:13:59|\n",
      "| 2021-02-03|1970-01-01 11:17:33|\n",
      "| 2021-02-19|1970-01-01 10:26:17|\n",
      "+-----------+-------------------+\n",
      "\n"
     ]
    },
    {
     "name": "stderr",
     "output_type": "stream",
     "text": [
      "\r",
      "                                                                                \r"
     ]
    }
   ],
   "source": [
    "df1 \\\n",
    "    .withColumn('duration', df1.dropoff_datetime.cast('long') - df1.pickup_datetime.cast('long')) \\\n",
    "    .withColumn('pickup_date', F.to_date(df1.pickup_datetime)) \\\n",
    "    .groupBy('pickup_date') \\\n",
    "    .max('duration') \\\n",
    "    .orderBy('max(duration)', ascending=False) \\\n",
    "    .withColumn('max(duration)', F.to_timestamp(\"max(duration)\")) \\\n",
    "    .limit(5) \\\n",
    "    .show()"
   ]
  },
  {
   "cell_type": "markdown",
   "id": "e51fabbf",
   "metadata": {},
   "source": [
    "- Using sparkSQL"
   ]
  },
  {
   "cell_type": "code",
   "execution_count": 76,
   "id": "1eaa7153",
   "metadata": {},
   "outputs": [
    {
     "name": "stderr",
     "output_type": "stream",
     "text": [
      "\r",
      "[Stage 109:==========================================>              (3 + 1) / 4]\r"
     ]
    },
    {
     "name": "stdout",
     "output_type": "stream",
     "text": [
      "+-----------+-------------------+\n",
      "|pickup_date|           duration|\n",
      "+-----------+-------------------+\n",
      "| 2021-02-11|1970-01-01 20:59:00|\n",
      "| 2021-02-17|1970-01-01 15:53:41|\n",
      "| 2021-02-20|1970-01-01 12:13:59|\n",
      "| 2021-02-03|1970-01-01 11:17:33|\n",
      "| 2021-02-19|1970-01-01 10:26:17|\n",
      "| 2021-02-25|1970-01-01 09:43:30|\n",
      "| 2021-02-18|1970-01-01 09:36:52|\n",
      "| 2021-02-10|1970-01-01 09:29:29|\n",
      "| 2021-02-21|1970-01-01 08:57:03|\n",
      "| 2021-02-09|1970-01-01 08:54:47|\n",
      "+-----------+-------------------+\n",
      "\n"
     ]
    },
    {
     "name": "stderr",
     "output_type": "stream",
     "text": [
      "\r",
      "                                                                                \r"
     ]
    }
   ],
   "source": [
    "spark.sql(\"\"\"\n",
    "SELECT \n",
    "    to_date(pickup_datetime) AS pickup_date,    \n",
    "    CAST(MAX(CAST(dropoff_datetime AS LONG) - CAST(pickup_datetime AS LONG)) AS TIMESTAMP) AS duration\n",
    "FROM \n",
    "    fhvhv_2021_02\n",
    "GROUP BY \n",
    "    1\n",
    "ORDER BY \n",
    "    2 DESC\n",
    "LIMIT 10;\n",
    "\"\"\").show()"
   ]
  },
  {
   "cell_type": "markdown",
   "id": "ebb68dc2",
   "metadata": {},
   "source": [
    "### Most Frequent Dispatching Base Num"
   ]
  },
  {
   "cell_type": "code",
   "execution_count": 74,
   "id": "f58d3954",
   "metadata": {},
   "outputs": [
    {
     "name": "stderr",
     "output_type": "stream",
     "text": [
      "[Stage 103:=============================================>           (4 + 1) / 5]\r"
     ]
    },
    {
     "name": "stdout",
     "output_type": "stream",
     "text": [
      "+--------------------+-------+\n",
      "|dispatching_base_num|  count|\n",
      "+--------------------+-------+\n",
      "|              B02510|3233664|\n",
      "|              B02764| 965568|\n",
      "|              B02872| 882689|\n",
      "|              B02875| 685390|\n",
      "|              B02765| 559768|\n",
      "+--------------------+-------+\n",
      "\n"
     ]
    },
    {
     "name": "stderr",
     "output_type": "stream",
     "text": [
      "\r",
      "                                                                                \r"
     ]
    }
   ],
   "source": [
    "df1 \\\n",
    "    .withColumn('dispatching_base_num', df1.dispatching_base_num) \\\n",
    "    .groupBy('dispatching_base_num') \\\n",
    "    .count() \\\n",
    "    .orderBy('count', ascending=False) \\\n",
    "    .limit(5) \\\n",
    "    .show()"
   ]
  },
  {
   "cell_type": "code",
   "execution_count": 75,
   "id": "0e233be9",
   "metadata": {},
   "outputs": [
    {
     "name": "stderr",
     "output_type": "stream",
     "text": [
      "\r",
      "[Stage 106:==========================================>              (3 + 1) / 4]\r"
     ]
    },
    {
     "name": "stdout",
     "output_type": "stream",
     "text": [
      "+--------------------+--------+\n",
      "|dispatching_base_num|count(1)|\n",
      "+--------------------+--------+\n",
      "|              B02510| 3233664|\n",
      "|              B02764|  965568|\n",
      "|              B02872|  882689|\n",
      "|              B02875|  685390|\n",
      "|              B02765|  559768|\n",
      "|              B02869|  429720|\n",
      "|              B02887|  322331|\n",
      "|              B02871|  312364|\n",
      "|              B02864|  311603|\n",
      "|              B02866|  311089|\n",
      "+--------------------+--------+\n",
      "\n"
     ]
    },
    {
     "name": "stderr",
     "output_type": "stream",
     "text": [
      "\r",
      "                                                                                \r"
     ]
    }
   ],
   "source": [
    "spark.sql(\"\"\"\n",
    "SELECT \n",
    "    dispatching_base_num,    \n",
    "    COUNT(1)\n",
    "FROM \n",
    "    fhvhv_2021_02\n",
    "GROUP BY \n",
    "    1\n",
    "ORDER BY \n",
    "    2 DESC\n",
    "LIMIT 10;\n",
    "\"\"\").show()"
   ]
  },
  {
   "cell_type": "markdown",
   "id": "0fb3b1cb",
   "metadata": {},
   "source": [
    "### Most common Location Pairs"
   ]
  },
  {
   "cell_type": "markdown",
   "id": "9d7b2c2c",
   "metadata": {},
   "source": [
    "- Using sparkSQL"
   ]
  },
  {
   "cell_type": "code",
   "execution_count": 81,
   "id": "4eb14d0c",
   "metadata": {},
   "outputs": [
    {
     "name": "stdout",
     "output_type": "stream",
     "text": [
      "+----------+-------+--------------------+------------+\n",
      "|LocationID|Borough|                Zone|service_zone|\n",
      "+----------+-------+--------------------+------------+\n",
      "|         1|    EWR|      Newark Airport|         EWR|\n",
      "|         2| Queens|         Jamaica Bay|   Boro Zone|\n",
      "|         3|  Bronx|Allerton/Pelham G...|   Boro Zone|\n",
      "+----------+-------+--------------------+------------+\n",
      "only showing top 3 rows\n",
      "\n"
     ]
    }
   ],
   "source": [
    "df_zones = spark.read.parquet('zones')\n",
    "df_zones.show(3)"
   ]
  },
  {
   "cell_type": "code",
   "execution_count": 82,
   "id": "47eb7f54",
   "metadata": {},
   "outputs": [],
   "source": [
    "df_zones.registerTempTable('zones')"
   ]
  },
  {
   "cell_type": "code",
   "execution_count": 80,
   "id": "9ae88e0d",
   "metadata": {},
   "outputs": [
    {
     "name": "stdout",
     "output_type": "stream",
     "text": [
      "+-----------------+--------------------+--------------------+-------------------+-------------------+-------------------+-------------------+------------+------------+----------+---------+-------------------+-----+----+---------+--------------------+-----------+----+----------+-------------------+-----------------+------------------+----------------+--------------+\n",
      "|hvfhs_license_num|dispatching_base_num|originating_base_num|   request_datetime|  on_scene_datetime|    pickup_datetime|   dropoff_datetime|PULocationID|DOLocationID|trip_miles|trip_time|base_passenger_fare|tolls| bcf|sales_tax|congestion_surcharge|airport_fee|tips|driver_pay|shared_request_flag|shared_match_flag|access_a_ride_flag|wav_request_flag|wav_match_flag|\n",
      "+-----------------+--------------------+--------------------+-------------------+-------------------+-------------------+-------------------+------------+------------+----------+---------+-------------------+-----+----+---------+--------------------+-----------+----+----------+-------------------+-----------------+------------------+----------------+--------------+\n",
      "|           HV0005|              B02510|                null|2021-02-11 20:34:28|               null|2021-02-11 20:38:00|2021-02-11 20:42:37|         174|         241|     0.726|      277|               6.85|  0.0|0.21|     0.61|                 0.0|       null| 0.0|      5.47|                  N|                N|                 N|               N|             N|\n",
      "|           HV0003|              B02876|              B02876|2021-02-13 23:04:41|2021-02-13 23:07:38|2021-02-13 23:07:38|2021-02-13 23:12:57|         230|          68|      0.95|      319|               6.84|  0.0|0.21|     0.63|                2.75|       null| 0.0|      6.89|                  N|                N|                  |               N|             N|\n",
      "+-----------------+--------------------+--------------------+-------------------+-------------------+-------------------+-------------------+------------+------------+----------+---------+-------------------+-----+----+---------+--------------------+-----------+----+----------+-------------------+-----------------+------------------+----------------+--------------+\n",
      "only showing top 2 rows\n",
      "\n"
     ]
    }
   ],
   "source": [
    "df1.show(2)"
   ]
  },
  {
   "cell_type": "code",
   "execution_count": 86,
   "id": "474e00c9",
   "metadata": {},
   "outputs": [
    {
     "name": "stderr",
     "output_type": "stream",
     "text": [
      "                                                                                \r"
     ]
    },
    {
     "data": {
      "text/plain": [
       "[Row(pu_do_pair='East New York / East New York', count(1)=45041),\n",
       " Row(pu_do_pair='Borough Park / Borough Park', count(1)=37329),\n",
       " Row(pu_do_pair='Canarsie / Canarsie', count(1)=28026),\n",
       " Row(pu_do_pair='Crown Heights North / Crown Heights North', count(1)=25976),\n",
       " Row(pu_do_pair='Bay Ridge / Bay Ridge', count(1)=17934)]"
      ]
     },
     "execution_count": 86,
     "metadata": {},
     "output_type": "execute_result"
    }
   ],
   "source": [
    "spark.sql(\"\"\"\n",
    "SELECT \n",
    "    CONCAT(pul.Zone, ' / ', dol.Zone) AS pu_do_pair, \n",
    "    COUNT(1)\n",
    "FROM \n",
    "    fhvhv_2021_02 fhv LEFT JOIN zones pul on pul.LocationID=fhv.PULocationID\n",
    "                      LEFT JOIN zones dol on dol.LocationID=fhv.DOLocationID\n",
    "GROUP BY \n",
    "    1\n",
    "ORDER BY \n",
    "    2 DESC\n",
    "LIMIT 5;\n",
    "\"\"\").take(5)"
   ]
  }
 ],
 "metadata": {
  "kernelspec": {
   "display_name": "Python 3 (ipykernel)",
   "language": "python",
   "name": "python3"
  },
  "language_info": {
   "codemirror_mode": {
    "name": "ipython",
    "version": 3
   },
   "file_extension": ".py",
   "mimetype": "text/x-python",
   "name": "python",
   "nbconvert_exporter": "python",
   "pygments_lexer": "ipython3",
   "version": "3.9.7"
  }
 },
 "nbformat": 4,
 "nbformat_minor": 5
}
