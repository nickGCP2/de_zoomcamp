{
 "cells": [
  {
   "cell_type": "markdown",
   "id": "bc28b39f",
   "metadata": {},
   "source": [
    "### Spark Operations explained in this notebook\n",
    "\n",
    "- Reading Parquet File into a Spark DataFrame (With/Without Schema)\n",
    "- Writing Spark DataFrame into a Parquet File\n",
    "- Repartitioing a Spark DataFrame\n",
    "- Adding Columns to a DataFrame\n",
    "- Renaming Columns to a DataFrame\n",
    "- Changing Datatype of a Spark DataFrame\n",
    "- Joining two DataFrames\n",
    "- Using GroupBy and Count in DataFrames\n",
    "\n",
    "### SparkSQL Operations and Spark logic behind the scenes explained in this notebooks\n",
    "\n",
    "- Registering DataFrame as a Table\n",
    "- Using SQL statements to create new DataFrames\n",
    "- Understanding how Group By works internally in Spark\n",
    "  View DAG Visualizations to understand reshuflling \n",
    "  \n",
    "- Understanding how Join works internally in Spark\n",
    "  View DAG Visualizations to understand broadcast Exchange"
   ]
  },
  {
   "cell_type": "markdown",
   "id": "2a070dd1",
   "metadata": {},
   "source": [
    "### Importing Required Depeendencies"
   ]
  },
  {
   "cell_type": "code",
   "execution_count": 13,
   "id": "23e72a37",
   "metadata": {},
   "outputs": [],
   "source": [
    "from datetime import datetime\n",
    "from collections import namedtuple\n",
    "\n",
    "import pyspark\n",
    "from pyspark.sql import SparkSession\n",
    "from pyspark.sql.functions import col"
   ]
  },
  {
   "cell_type": "markdown",
   "id": "963b7ba9",
   "metadata": {},
   "source": [
    "### Starting Spark Session"
   ]
  },
  {
   "cell_type": "code",
   "execution_count": 3,
   "id": "cb415af2",
   "metadata": {},
   "outputs": [
    {
     "name": "stderr",
     "output_type": "stream",
     "text": [
      "WARNING: An illegal reflective access operation has occurred\n",
      "WARNING: Illegal reflective access by org.apache.spark.unsafe.Platform (file:/home/Naveen/spark/spark-3.0.3-bin-hadoop3.2/jars/spark-unsafe_2.12-3.0.3.jar) to constructor java.nio.DirectByteBuffer(long,int)\n",
      "WARNING: Please consider reporting this to the maintainers of org.apache.spark.unsafe.Platform\n",
      "WARNING: Use --illegal-access=warn to enable warnings of further illegal reflective access operations\n",
      "WARNING: All illegal access operations will be denied in a future release\n",
      "22/06/09 08:33:39 WARN NativeCodeLoader: Unable to load native-hadoop library for your platform... using builtin-java classes where applicable\n",
      "Using Spark's default log4j profile: org/apache/spark/log4j-defaults.properties\n",
      "Setting default log level to \"WARN\".\n",
      "To adjust logging level use sc.setLogLevel(newLevel). For SparkR, use setLogLevel(newLevel).\n",
      "22/06/09 08:33:40 WARN Utils: Service 'SparkUI' could not bind on port 4040. Attempting port 4041.\n",
      "22/06/09 08:33:40 WARN Utils: Service 'SparkUI' could not bind on port 4041. Attempting port 4042.\n"
     ]
    }
   ],
   "source": [
    "spark = SparkSession.builder \\\n",
    "        .master(\"local[*]\") \\\n",
    "        .appName('test') \\\n",
    "        .getOrCreate()"
   ]
  },
  {
   "cell_type": "markdown",
   "id": "9aaad4b9",
   "metadata": {},
   "source": [
    "### Downloading Higher Volume Data Parquet File"
   ]
  },
  {
   "cell_type": "code",
   "execution_count": 4,
   "id": "af8e89ec",
   "metadata": {},
   "outputs": [],
   "source": [
    "!wget https://nyc-tlc.s3.amazonaws.com/trip+data/fhvhv_tripdata_2021-01.parquet"
   ]
  },
  {
   "cell_type": "markdown",
   "id": "f578e3e7",
   "metadata": {},
   "source": [
    "### Creating Spark Dataframe"
   ]
  },
  {
   "cell_type": "code",
   "execution_count": 4,
   "id": "aad44066",
   "metadata": {},
   "outputs": [
    {
     "name": "stderr",
     "output_type": "stream",
     "text": [
      "                                                                                \r"
     ]
    },
    {
     "name": "stdout",
     "output_type": "stream",
     "text": [
      "+-----------------+--------------------+--------------------+-------------------+-------------------+-------------------+-------------------+------------+------------+----------+---------+-------------------+-----+----+---------+--------------------+-----------+----+----------+-------------------+-----------------+------------------+----------------+--------------+\n",
      "|hvfhs_license_num|dispatching_base_num|originating_base_num|   request_datetime|  on_scene_datetime|    pickup_datetime|   dropoff_datetime|PULocationID|DOLocationID|trip_miles|trip_time|base_passenger_fare|tolls| bcf|sales_tax|congestion_surcharge|airport_fee|tips|driver_pay|shared_request_flag|shared_match_flag|access_a_ride_flag|wav_request_flag|wav_match_flag|\n",
      "+-----------------+--------------------+--------------------+-------------------+-------------------+-------------------+-------------------+------------+------------+----------+---------+-------------------+-----+----+---------+--------------------+-----------+----+----------+-------------------+-----------------+------------------+----------------+--------------+\n",
      "|           HV0003|              B02682|              B02682|2021-01-01 00:28:09|2021-01-01 00:31:42|2021-01-01 00:33:44|2021-01-01 00:49:07|         230|         166|      5.26|      923|              22.28|  0.0|0.67|     1.98|                2.75|       null| 0.0|     14.99|                  N|                N|                  |               N|             N|\n",
      "|           HV0003|              B02682|              B02682|2021-01-01 00:45:56|2021-01-01 00:55:19|2021-01-01 00:55:19|2021-01-01 01:18:21|         152|         167|      3.65|     1382|              18.36|  0.0|0.55|     1.63|                 0.0|       null| 0.0|     17.06|                  N|                N|                  |               N|             N|\n",
      "|           HV0003|              B02764|              B02764|2021-01-01 00:21:15|2021-01-01 00:22:41|2021-01-01 00:23:56|2021-01-01 00:38:05|         233|         142|      3.51|      849|              14.05|  0.0|0.48|     1.25|                2.75|       null|0.94|     12.98|                  N|                N|                  |               N|             N|\n",
      "|           HV0003|              B02764|              B02764|2021-01-01 00:39:12|2021-01-01 00:42:37|2021-01-01 00:42:51|2021-01-01 00:45:50|         142|         143|      0.74|      179|               7.91|  0.0|0.24|      0.7|                2.75|       null| 0.0|      7.41|                  N|                N|                  |               N|             N|\n",
      "|           HV0003|              B02764|              B02764|2021-01-01 00:46:11|2021-01-01 00:47:17|2021-01-01 00:48:14|2021-01-01 01:08:42|         143|          78|       9.2|     1228|              27.11|  0.0|0.81|     2.41|                2.75|       null| 0.0|     22.44|                  N|                N|                  |               N|             N|\n",
      "|           HV0005|              B02510|                null|2021-01-01 00:04:00|               null|2021-01-01 00:06:59|2021-01-01 00:43:01|          88|          42|     9.725|     2162|              28.11|  0.0|0.84|     2.49|                2.75|       null| 0.0|      28.9|                  N|                N|                 N|               N|             N|\n",
      "|           HV0005|              B02510|                null|2021-01-01 00:40:06|               null|2021-01-01 00:50:00|2021-01-01 01:04:57|          42|         151|     2.469|      897|              25.03|  0.0|0.75|     2.22|                 0.0|       null| 0.0|     15.01|                  N|                N|                 N|               N|             N|\n",
      "|           HV0003|              B02764|              B02764|2021-01-01 00:10:36|2021-01-01 00:12:28|2021-01-01 00:14:30|2021-01-01 00:50:27|          71|         226|     13.53|     2157|              29.67|  0.0|1.04|     3.08|                 0.0|       null| 0.0|      34.2|                  N|                N|                  |               N|             N|\n",
      "|           HV0003|              B02875|              B02875|2021-01-01 00:21:17|2021-01-01 00:22:25|2021-01-01 00:22:54|2021-01-01 00:30:20|         112|         255|       1.6|      446|               6.89|  0.0|0.21|     0.61|                 0.0|       null| 0.0|      6.26|                  N|                N|                  |               N|             N|\n",
      "|           HV0003|              B02875|              B02875|2021-01-01 00:36:57|2021-01-01 00:38:09|2021-01-01 00:40:12|2021-01-01 00:53:31|         255|         232|       3.2|      800|              11.51|  0.0|0.53|     1.03|                2.75|       null|2.82|     10.99|                  N|                N|                  |               N|             N|\n",
      "|           HV0003|              B02875|              B02875|2021-01-01 00:53:31|2021-01-01 00:56:21|2021-01-01 00:56:45|2021-01-01 01:17:42|         232|         198|      5.74|     1257|              17.18|  0.0|0.52|     1.52|                2.75|       null| 0.0|     17.61|                  N|                N|                  |               N|             N|\n",
      "|           HV0003|              B02835|              B02835|2021-01-01 00:22:58|2021-01-01 00:27:01|2021-01-01 00:29:04|2021-01-01 00:36:27|         113|          48|       1.8|      443|               8.18|  0.0|0.25|     0.73|                2.75|       null| 0.0|      6.12|                  N|                N|                  |               N|             N|\n",
      "|           HV0003|              B02835|              B02835|2021-01-01 00:46:44|2021-01-01 00:47:49|2021-01-01 00:48:56|2021-01-01 00:59:12|         239|          75|       2.9|      616|               13.1|  0.0|0.45|     1.17|                2.75|       null|0.94|      8.77|                  N|                N|                  |               N|             N|\n",
      "|           HV0004|              B02800|                null|2021-01-01 00:12:50|               null|2021-01-01 00:15:24|2021-01-01 00:38:31|         181|         237|      9.66|     1387|              32.95|  0.0| 0.0|     2.34|                2.75|       null| 0.0|      21.1|                  N|                N|                 N|               N|             N|\n",
      "|           HV0004|              B02800|                null|2021-01-01 00:35:32|               null|2021-01-01 00:45:00|2021-01-01 01:06:45|         236|          68|      4.38|     1305|              22.91|  0.0| 0.0|     1.63|                2.75|       null|3.43|     15.82|                  N|                N|                 N|               N|             N|\n",
      "|           HV0003|              B02682|              B02682|2021-01-01 00:10:22|2021-01-01 00:11:03|2021-01-01 00:11:53|2021-01-01 00:18:06|         256|         148|      2.03|      373|               7.84|  0.0|0.42|      0.7|                2.75|       null|2.82|      6.93|                  N|                N|                  |               N|             N|\n",
      "|           HV0003|              B02682|              B02682|2021-01-01 00:25:00|2021-01-01 00:26:31|2021-01-01 00:28:31|2021-01-01 00:41:40|          79|          80|      3.08|      789|               13.2|  0.0| 0.4|     1.17|                2.75|       null| 0.0|     11.54|                  N|                N|                  |               N|             N|\n",
      "|           HV0003|              B02682|              B02682|2021-01-01 00:44:56|2021-01-01 00:49:55|2021-01-01 00:50:49|2021-01-01 00:55:59|          17|         217|      1.17|      310|               7.91|  0.0|0.24|      0.7|                 0.0|       null| 0.0|      6.94|                  N|                N|                  |               N|             N|\n",
      "|           HV0005|              B02510|                null|2021-01-01 00:05:04|               null|2021-01-01 00:08:40|2021-01-01 00:39:39|          62|          29|    10.852|     1859|              31.18|  0.0|0.94|     2.77|                 0.0|       null| 0.0|     27.61|                  N|                N|                 N|               N|             N|\n",
      "|           HV0003|              B02836|              B02836|2021-01-01 00:40:44|2021-01-01 00:53:34|2021-01-01 00:53:48|2021-01-01 01:11:40|          22|          22|      3.52|     1072|              28.67|  0.0|0.86|     2.54|                 0.0|       null| 0.0|     17.64|                  N|                N|                  |               N|             N|\n",
      "+-----------------+--------------------+--------------------+-------------------+-------------------+-------------------+-------------------+------------+------------+----------+---------+-------------------+-----+----+---------+--------------------+-----------+----+----------+-------------------+-----------------+------------------+----------------+--------------+\n",
      "only showing top 20 rows\n",
      "\n"
     ]
    }
   ],
   "source": [
    "df = spark.read.parquet('fhvhv_tripdata_2021-01.parquet')\n",
    "df.show()"
   ]
  },
  {
   "cell_type": "code",
   "execution_count": 5,
   "id": "a215c14a",
   "metadata": {},
   "outputs": [
    {
     "data": {
      "text/plain": [
       "StructType(List(StructField(hvfhs_license_num,StringType,true),StructField(dispatching_base_num,StringType,true),StructField(originating_base_num,StringType,true),StructField(request_datetime,TimestampType,true),StructField(on_scene_datetime,TimestampType,true),StructField(pickup_datetime,TimestampType,true),StructField(dropoff_datetime,TimestampType,true),StructField(PULocationID,LongType,true),StructField(DOLocationID,LongType,true),StructField(trip_miles,DoubleType,true),StructField(trip_time,LongType,true),StructField(base_passenger_fare,DoubleType,true),StructField(tolls,DoubleType,true),StructField(bcf,DoubleType,true),StructField(sales_tax,DoubleType,true),StructField(congestion_surcharge,DoubleType,true),StructField(airport_fee,DoubleType,true),StructField(tips,DoubleType,true),StructField(driver_pay,DoubleType,true),StructField(shared_request_flag,StringType,true),StructField(shared_match_flag,StringType,true),StructField(access_a_ride_flag,StringType,true),StructField(wav_request_flag,StringType,true),StructField(wav_match_flag,StringType,true)))"
      ]
     },
     "execution_count": 5,
     "metadata": {},
     "output_type": "execute_result"
    }
   ],
   "source": [
    "df.schema"
   ]
  },
  {
   "cell_type": "markdown",
   "id": "a016e801",
   "metadata": {},
   "source": [
    " ### Repartitioning into smaller Files"
   ]
  },
  {
   "cell_type": "code",
   "execution_count": 7,
   "id": "90838147",
   "metadata": {},
   "outputs": [
    {
     "name": "stderr",
     "output_type": "stream",
     "text": [
      "                                                                                \r"
     ]
    }
   ],
   "source": [
    "df.repartition(24) \\\n",
    "    .write \\\n",
    "    .parquet('fhvhv_parquet/2021/01/')"
   ]
  },
  {
   "cell_type": "code",
   "execution_count": 8,
   "id": "0a446223",
   "metadata": {},
   "outputs": [
    {
     "name": "stdout",
     "output_type": "stream",
     "text": [
      "+-----------------+--------------------+--------------------+-------------------+-------------------+-------------------+-------------------+------------+------------+----------+---------+-------------------+-----+----+---------+--------------------+-----------+----+----------+-------------------+-----------------+------------------+----------------+--------------+\n",
      "|hvfhs_license_num|dispatching_base_num|originating_base_num|   request_datetime|  on_scene_datetime|    pickup_datetime|   dropoff_datetime|PULocationID|DOLocationID|trip_miles|trip_time|base_passenger_fare|tolls| bcf|sales_tax|congestion_surcharge|airport_fee|tips|driver_pay|shared_request_flag|shared_match_flag|access_a_ride_flag|wav_request_flag|wav_match_flag|\n",
      "+-----------------+--------------------+--------------------+-------------------+-------------------+-------------------+-------------------+------------+------------+----------+---------+-------------------+-----+----+---------+--------------------+-----------+----+----------+-------------------+-----------------+------------------+----------------+--------------+\n",
      "|           HV0005|              B02510|                null|2021-01-14 06:03:37|               null|2021-01-14 06:10:27|2021-01-14 06:16:48|          17|          61|     1.098|      381|                7.5|  0.0|0.23|     0.67|                 0.0|       null| 0.0|      5.47|                  N|                N|                 N|               N|             N|\n",
      "|           HV0005|              B02510|                null|2021-01-14 06:47:15|               null|2021-01-14 06:53:43|2021-01-14 07:06:18|          61|          71|     2.456|      755|              12.48|  0.0|0.37|     1.11|                 0.0|       null| 0.0|      9.05|                  N|                N|                 N|               N|             N|\n",
      "|           HV0003|              B02764|              B02764|2021-01-15 14:07:16|2021-01-15 14:10:33|2021-01-15 14:11:07|2021-01-15 14:41:51|         142|         107|      4.47|     1844|              20.03|  0.0| 0.6|     1.78|                2.75|       null| 0.0|     29.04|                  N|                N|                  |               N|             Y|\n",
      "|           HV0003|              B02889|              B02889|2021-01-29 18:15:35|2021-01-29 18:18:43|2021-01-29 18:20:30|2021-01-29 18:32:03|         159|          78|      2.19|      693|               9.15|  0.0|0.27|     0.81|                 0.0|       null| 0.0|      8.22|                  N|                N|                  |               N|             N|\n",
      "|           HV0005|              B02510|                null|2021-01-07 09:05:49|               null|2021-01-07 09:12:19|2021-01-07 09:18:37|         119|         235|      1.47|      378|               7.38|  0.0|0.22|     0.65|                 0.0|       null| 0.0|      5.47|                  N|                N|                 N|               N|             N|\n",
      "|           HV0003|              B02764|              B02764|2021-01-11 21:48:07|2021-01-11 21:48:18|2021-01-11 21:49:41|2021-01-11 22:00:20|         158|          87|       3.0|      639|              14.58|  0.0|0.44|     1.29|                2.75|       null| 0.0|      8.66|                  N|                N|                  |               N|             N|\n",
      "|           HV0003|              B02866|              B02866|2021-01-09 07:39:16|2021-01-09 07:47:31|2021-01-09 07:49:14|2021-01-09 08:02:16|         118|           6|       6.5|      782|              21.56|  0.0|0.65|     1.91|                 0.0|       null| 0.0|     13.71|                  N|                N|                  |               N|             N|\n",
      "|           HV0003|              B02872|              B02872|2021-01-27 17:53:06|2021-01-27 17:56:34|2021-01-27 17:56:55|2021-01-27 18:11:04|         116|          50|      4.87|      849|              12.95|  0.0|0.41|      1.2|                2.75|       null| 5.0|     19.14|                  N|                N|                  |               N|             Y|\n",
      "|           HV0003|              B02617|              B02617|2021-01-23 15:12:57|2021-01-23 15:15:09|2021-01-23 15:15:15|2021-01-23 15:25:35|          17|         189|      1.99|      620|              10.75|  0.0|0.32|     0.95|                 0.0|       null| 0.0|      7.39|                  N|                N|                  |               N|             N|\n",
      "|           HV0005|              B02510|                null|2021-01-15 18:27:47|               null|2021-01-15 18:35:52|2021-01-15 18:42:15|         117|          86|     0.832|      383|               6.99|  0.0|0.21|     0.62|                 0.0|       null| 0.0|      5.47|                  N|                N|                 N|               N|             N|\n",
      "|           HV0003|              B02764|              B02764|2021-01-29 16:02:45|2021-01-29 16:04:37|2021-01-29 16:05:00|2021-01-29 16:20:57|         205|         215|      3.79|      957|               14.7|  0.0|0.44|      1.3|                 0.0|       null| 0.0|     15.19|                  N|                N|                  |               N|             N|\n",
      "|           HV0005|              B02510|                null|2021-01-23 22:41:08|               null|2021-01-23 22:42:13|2021-01-23 22:48:40|          36|         198|     1.449|      387|               8.31|  0.0|0.17|     0.51|                 0.0|       null| 0.0|      5.47|                  N|                N|                 N|               N|             N|\n",
      "|           HV0005|              B02510|                null|2021-01-19 10:43:20|               null|2021-01-19 10:47:12|2021-01-19 10:56:40|          87|          33|     2.223|      568|              13.65| 0.46|0.42|     1.25|                2.75|       null| 0.0|      8.41|                  N|                N|                 N|               N|             N|\n",
      "|           HV0003|              B02864|              B02864|2021-01-30 23:41:28|2021-01-30 23:46:31|2021-01-30 23:46:53|2021-01-31 00:00:42|          69|         212|      4.95|      829|              11.69|  0.0|0.35|     1.04|                 0.0|       null| 0.0|      12.4|                  N|                N|                  |               N|             N|\n",
      "|           HV0003|              B02835|              B02835|2021-01-28 21:53:03|2021-01-28 21:55:46|2021-01-28 21:56:06|2021-01-28 21:59:55|          20|          78|      0.66|      229|                5.7|  0.0|0.17|     0.51|                 0.0|       null| 0.0|      5.39|                  N|                N|                  |               N|             N|\n",
      "|           HV0003|              B02875|              B02875|2021-01-07 20:29:23|2021-01-07 20:32:37|2021-01-07 20:32:43|2021-01-07 20:53:50|          82|          75|      8.83|     1267|              21.63| 6.12|0.83|     2.46|                 0.0|       null| 0.0|     20.35|                  N|                N|                  |               N|             N|\n",
      "|           HV0003|              B02879|              B02879|2021-01-26 20:31:36|2021-01-26 20:35:12|2021-01-26 20:35:42|2021-01-26 20:45:22|          47|          59|      1.61|      580|               8.25|  0.0|0.25|     0.73|                 0.0|       null| 0.0|      6.63|                  N|                N|                  |               N|             N|\n",
      "|           HV0003|              B02765|              B02765|2021-01-21 14:06:35|2021-01-21 14:07:11|2021-01-21 14:07:53|2021-01-21 14:21:52|          41|         159|      2.27|      839|               13.0|  0.0|0.39|     1.15|                 0.0|       null| 0.0|      9.53|                  N|                N|                  |               N|             N|\n",
      "|           HV0005|              B02510|                null|2021-01-16 16:06:29|               null|2021-01-16 16:13:08|2021-01-16 16:26:51|          18|         136|     2.295|      823|              10.72|  0.0|0.32|     0.95|                 0.0|       null| 0.0|      9.44|                  N|                N|                 N|               N|             N|\n",
      "|           HV0005|              B02510|                null|2021-01-16 00:12:43|               null|2021-01-16 00:16:23|2021-01-16 00:26:12|         210|          11|     3.745|      589|              11.61|  0.0|0.35|     1.03|                 0.0|       null| 0.0|      9.09|                  N|                N|                 N|               N|             N|\n",
      "+-----------------+--------------------+--------------------+-------------------+-------------------+-------------------+-------------------+------------+------------+----------+---------+-------------------+-----+----+---------+--------------------+-----------+----+----------+-------------------+-----------------+------------------+----------------+--------------+\n",
      "only showing top 20 rows\n",
      "\n"
     ]
    }
   ],
   "source": [
    "df1 = spark.read.parquet('fhvhv_parquet/2021/01/')\n",
    "df1.show()"
   ]
  },
  {
   "cell_type": "code",
   "execution_count": 9,
   "id": "af44d98d",
   "metadata": {},
   "outputs": [
    {
     "name": "stdout",
     "output_type": "stream",
     "text": [
      "root\n",
      " |-- hvfhs_license_num: string (nullable = true)\n",
      " |-- dispatching_base_num: string (nullable = true)\n",
      " |-- originating_base_num: string (nullable = true)\n",
      " |-- request_datetime: timestamp (nullable = true)\n",
      " |-- on_scene_datetime: timestamp (nullable = true)\n",
      " |-- pickup_datetime: timestamp (nullable = true)\n",
      " |-- dropoff_datetime: timestamp (nullable = true)\n",
      " |-- PULocationID: long (nullable = true)\n",
      " |-- DOLocationID: long (nullable = true)\n",
      " |-- trip_miles: double (nullable = true)\n",
      " |-- trip_time: long (nullable = true)\n",
      " |-- base_passenger_fare: double (nullable = true)\n",
      " |-- tolls: double (nullable = true)\n",
      " |-- bcf: double (nullable = true)\n",
      " |-- sales_tax: double (nullable = true)\n",
      " |-- congestion_surcharge: double (nullable = true)\n",
      " |-- airport_fee: double (nullable = true)\n",
      " |-- tips: double (nullable = true)\n",
      " |-- driver_pay: double (nullable = true)\n",
      " |-- shared_request_flag: string (nullable = true)\n",
      " |-- shared_match_flag: string (nullable = true)\n",
      " |-- access_a_ride_flag: string (nullable = true)\n",
      " |-- wav_request_flag: string (nullable = true)\n",
      " |-- wav_match_flag: string (nullable = true)\n",
      "\n"
     ]
    }
   ],
   "source": [
    "df1.printSchema()"
   ]
  },
  {
   "cell_type": "code",
   "execution_count": 14,
   "id": "eab98673",
   "metadata": {},
   "outputs": [],
   "source": [
    "df1 = df1 \\\n",
    "    .withColumn('PULocationID',col('PULocationID').cast('integer')) \\\n",
    "    .withColumn('DOLocationID',col('PULocationID').cast('integer'))"
   ]
  },
  {
   "cell_type": "code",
   "execution_count": 17,
   "id": "065658da",
   "metadata": {},
   "outputs": [
    {
     "name": "stdout",
     "output_type": "stream",
     "text": [
      "root\n",
      " |-- hvfhs_license_num: string (nullable = true)\n",
      " |-- dispatching_base_num: string (nullable = true)\n",
      " |-- originating_base_num: string (nullable = true)\n",
      " |-- request_datetime: timestamp (nullable = true)\n",
      " |-- on_scene_datetime: timestamp (nullable = true)\n",
      " |-- pickup_datetime: timestamp (nullable = true)\n",
      " |-- dropoff_datetime: timestamp (nullable = true)\n",
      " |-- PULocationID: integer (nullable = true)\n",
      " |-- DOLocationID: integer (nullable = true)\n",
      " |-- trip_miles: double (nullable = true)\n",
      " |-- trip_time: long (nullable = true)\n",
      " |-- base_passenger_fare: double (nullable = true)\n",
      " |-- tolls: double (nullable = true)\n",
      " |-- bcf: double (nullable = true)\n",
      " |-- sales_tax: double (nullable = true)\n",
      " |-- congestion_surcharge: double (nullable = true)\n",
      " |-- airport_fee: double (nullable = true)\n",
      " |-- tips: double (nullable = true)\n",
      " |-- driver_pay: double (nullable = true)\n",
      " |-- shared_request_flag: string (nullable = true)\n",
      " |-- shared_match_flag: string (nullable = true)\n",
      " |-- access_a_ride_flag: string (nullable = true)\n",
      " |-- wav_request_flag: string (nullable = true)\n",
      " |-- wav_match_flag: string (nullable = true)\n",
      "\n"
     ]
    }
   ],
   "source": [
    "df1.printSchema()"
   ]
  },
  {
   "cell_type": "markdown",
   "id": "75fed10b",
   "metadata": {},
   "source": [
    "### Reading Higher Volume Data with pre-defined Schema"
   ]
  },
  {
   "cell_type": "code",
   "execution_count": 19,
   "id": "facfea82",
   "metadata": {},
   "outputs": [],
   "source": [
    "from pyspark.sql import types\n",
    "schema = types.StructType([\n",
    "  types.StructField('hvfhs_license_num', types.StringType(), True),\n",
    "  types.StructField('dispatching_base_num', types.StringType(), True),\n",
    "  types.StructField('originating_base_num', types.StringType(), True),\n",
    "  types.StructField('request_datetime', types.TimestampType(), True),\n",
    "  types.StructField('on_scene_datetime', types.TimestampType(), True),\n",
    "  types.StructField('pickup_datetime', types.TimestampType(), True),\n",
    "  types.StructField('dropoff_datetime', types.TimestampType(), True),\n",
    "  types.StructField('PULocationID', types.LongType(), True),\n",
    "  types.StructField('DOLocationID', types.LongType(), True),\n",
    "  types.StructField('trip_miles', types.DoubleType(), True),\n",
    "  types.StructField('trip_time', types.LongType(), True),\n",
    "  types.StructField('base_passenger_fare', types.DoubleType(), True),\n",
    "  types.StructField('tolls', types.DoubleType(), True),\n",
    "  types.StructField('bcf', types.DoubleType(), True),\n",
    "  types.StructField('sales_tax', types.DoubleType(), True),\n",
    "  types.StructField('congestion_surcharge', types.DoubleType(), True),\n",
    "  types.StructField('airport_fee', types.DoubleType(), True),\n",
    "  types.StructField('tips', types.DoubleType(), True),\n",
    "  types.StructField('driver_pay', types.DoubleType(), True),\n",
    "  types.StructField('shared_request_flag', types.StringType(), True),\n",
    "  types.StructField('shared_match_flag', types.StringType(), True),\n",
    "  types.StructField('access_a_ride_flag', types.StringType(), True),\n",
    "  types.StructField('wav_request_flag', types.StringType(), True),\n",
    "  types.StructField('wav_match_flag', types.StringType(), True)\n",
    "])"
   ]
  },
  {
   "cell_type": "code",
   "execution_count": 24,
   "id": "dd00e1c8",
   "metadata": {},
   "outputs": [],
   "source": [
    "df_with_schema = spark.read.schema(schema).parquet('fhvhv_tripdata_2021-01.parquet')"
   ]
  },
  {
   "cell_type": "code",
   "execution_count": 25,
   "id": "2ddc7f8b",
   "metadata": {},
   "outputs": [
    {
     "name": "stdout",
     "output_type": "stream",
     "text": [
      "+-----------------+--------------------+--------------------+-------------------+-------------------+-------------------+-------------------+------------+------------+----------+---------+-------------------+-----+----+---------+--------------------+-----------+----+----------+-------------------+-----------------+------------------+----------------+--------------+\n",
      "|hvfhs_license_num|dispatching_base_num|originating_base_num|   request_datetime|  on_scene_datetime|    pickup_datetime|   dropoff_datetime|PULocationID|DOLocationID|trip_miles|trip_time|base_passenger_fare|tolls| bcf|sales_tax|congestion_surcharge|airport_fee|tips|driver_pay|shared_request_flag|shared_match_flag|access_a_ride_flag|wav_request_flag|wav_match_flag|\n",
      "+-----------------+--------------------+--------------------+-------------------+-------------------+-------------------+-------------------+------------+------------+----------+---------+-------------------+-----+----+---------+--------------------+-----------+----+----------+-------------------+-----------------+------------------+----------------+--------------+\n",
      "|           HV0003|              B02682|              B02682|2021-01-01 00:28:09|2021-01-01 00:31:42|2021-01-01 00:33:44|2021-01-01 00:49:07|         230|         166|      5.26|      923|              22.28|  0.0|0.67|     1.98|                2.75|       null| 0.0|     14.99|                  N|                N|                  |               N|             N|\n",
      "|           HV0003|              B02682|              B02682|2021-01-01 00:45:56|2021-01-01 00:55:19|2021-01-01 00:55:19|2021-01-01 01:18:21|         152|         167|      3.65|     1382|              18.36|  0.0|0.55|     1.63|                 0.0|       null| 0.0|     17.06|                  N|                N|                  |               N|             N|\n",
      "|           HV0003|              B02764|              B02764|2021-01-01 00:21:15|2021-01-01 00:22:41|2021-01-01 00:23:56|2021-01-01 00:38:05|         233|         142|      3.51|      849|              14.05|  0.0|0.48|     1.25|                2.75|       null|0.94|     12.98|                  N|                N|                  |               N|             N|\n",
      "|           HV0003|              B02764|              B02764|2021-01-01 00:39:12|2021-01-01 00:42:37|2021-01-01 00:42:51|2021-01-01 00:45:50|         142|         143|      0.74|      179|               7.91|  0.0|0.24|      0.7|                2.75|       null| 0.0|      7.41|                  N|                N|                  |               N|             N|\n",
      "|           HV0003|              B02764|              B02764|2021-01-01 00:46:11|2021-01-01 00:47:17|2021-01-01 00:48:14|2021-01-01 01:08:42|         143|          78|       9.2|     1228|              27.11|  0.0|0.81|     2.41|                2.75|       null| 0.0|     22.44|                  N|                N|                  |               N|             N|\n",
      "+-----------------+--------------------+--------------------+-------------------+-------------------+-------------------+-------------------+------------+------------+----------+---------+-------------------+-----+----+---------+--------------------+-----------+----+----------+-------------------+-----------------+------------------+----------------+--------------+\n",
      "only showing top 5 rows\n",
      "\n"
     ]
    }
   ],
   "source": [
    "df_with_schema.show(5)"
   ]
  },
  {
   "cell_type": "code",
   "execution_count": 26,
   "id": "53da22d4",
   "metadata": {},
   "outputs": [
    {
     "name": "stdout",
     "output_type": "stream",
     "text": [
      "root\n",
      " |-- hvfhs_license_num: string (nullable = true)\n",
      " |-- dispatching_base_num: string (nullable = true)\n",
      " |-- originating_base_num: string (nullable = true)\n",
      " |-- request_datetime: timestamp (nullable = true)\n",
      " |-- on_scene_datetime: timestamp (nullable = true)\n",
      " |-- pickup_datetime: timestamp (nullable = true)\n",
      " |-- dropoff_datetime: timestamp (nullable = true)\n",
      " |-- PULocationID: long (nullable = true)\n",
      " |-- DOLocationID: long (nullable = true)\n",
      " |-- trip_miles: double (nullable = true)\n",
      " |-- trip_time: long (nullable = true)\n",
      " |-- base_passenger_fare: double (nullable = true)\n",
      " |-- tolls: double (nullable = true)\n",
      " |-- bcf: double (nullable = true)\n",
      " |-- sales_tax: double (nullable = true)\n",
      " |-- congestion_surcharge: double (nullable = true)\n",
      " |-- airport_fee: double (nullable = true)\n",
      " |-- tips: double (nullable = true)\n",
      " |-- driver_pay: double (nullable = true)\n",
      " |-- shared_request_flag: string (nullable = true)\n",
      " |-- shared_match_flag: string (nullable = true)\n",
      " |-- access_a_ride_flag: string (nullable = true)\n",
      " |-- wav_request_flag: string (nullable = true)\n",
      " |-- wav_match_flag: string (nullable = true)\n",
      "\n"
     ]
    }
   ],
   "source": [
    "df2.printSchema()"
   ]
  },
  {
   "cell_type": "markdown",
   "id": "97039f9c",
   "metadata": {},
   "source": [
    "### Reading and Repartitioning Yellow and Green Taxi Data"
   ]
  },
  {
   "cell_type": "code",
   "execution_count": 27,
   "id": "ba925bbb",
   "metadata": {},
   "outputs": [],
   "source": [
    "# Green and Yellow data has been downloaded already using download_data.sh bash file"
   ]
  },
  {
   "cell_type": "code",
   "execution_count": 27,
   "id": "2eb98b5e",
   "metadata": {},
   "outputs": [
    {
     "name": "stderr",
     "output_type": "stream",
     "text": [
      "\r",
      "                                                                                \r"
     ]
    },
    {
     "name": "stdout",
     "output_type": "stream",
     "text": [
      "+--------+--------------------+---------------------+------------------+----------+------------+------------+---------------+-------------+-----------+-----+-------+----------+------------+---------+---------------------+------------+------------+---------+--------------------+\n",
      "|VendorID|lpep_pickup_datetime|lpep_dropoff_datetime|store_and_fwd_flag|RatecodeID|PULocationID|DOLocationID|passenger_count|trip_distance|fare_amount|extra|mta_tax|tip_amount|tolls_amount|ehail_fee|improvement_surcharge|total_amount|payment_type|trip_type|congestion_surcharge|\n",
      "+--------+--------------------+---------------------+------------------+----------+------------+------------+---------------+-------------+-----------+-----+-------+----------+------------+---------+---------------------+------------+------------+---------+--------------------+\n",
      "|       2| 2019-12-18 15:52:30|  2019-12-18 15:54:39|                 N|       1.0|         264|         264|            5.0|          0.0|        3.5|  0.5|    0.5|      0.01|         0.0|     null|                  0.3|        4.81|         1.0|      1.0|                 0.0|\n",
      "|       2| 2020-01-01 00:45:58|  2020-01-01 00:56:39|                 N|       5.0|          66|          65|            2.0|         1.28|       20.0|  0.0|    0.0|      4.06|         0.0|     null|                  0.3|       24.36|         1.0|      2.0|                 0.0|\n",
      "|       2| 2020-01-01 00:41:38|  2020-01-01 00:52:49|                 N|       1.0|         181|         228|            1.0|         2.47|       10.5|  0.5|    0.5|      3.54|         0.0|     null|                  0.3|       15.34|         1.0|      1.0|                 0.0|\n",
      "|       1| 2020-01-01 00:52:46|  2020-01-01 01:14:21|                 N|       1.0|         129|         263|            2.0|          6.3|       21.0| 3.25|    0.5|       0.0|         0.0|     null|                  0.3|       25.05|         2.0|      1.0|                2.75|\n",
      "|       1| 2020-01-01 00:19:57|  2020-01-01 00:30:56|                 N|       1.0|         210|         150|            1.0|          2.3|       10.0|  0.5|    0.5|       0.0|         0.0|     null|                  0.3|        11.3|         1.0|      1.0|                 0.0|\n",
      "|       1| 2020-01-01 00:52:33|  2020-01-01 01:09:54|                 N|       1.0|          35|          39|            1.0|          3.0|       13.5|  0.5|    0.5|       0.0|         0.0|     null|                  0.3|        14.8|         1.0|      1.0|                 0.0|\n",
      "|       2| 2020-01-01 00:10:18|  2020-01-01 00:22:16|                 N|       1.0|          25|          61|            1.0|         2.77|       11.0|  0.5|    0.5|       0.0|         0.0|     null|                  0.3|        12.3|         2.0|      1.0|                 0.0|\n",
      "|       2| 2020-01-01 01:03:14|  2020-01-01 01:29:45|                 N|       1.0|         225|          89|            1.0|         4.98|       20.5|  0.5|    0.5|       0.0|         0.0|     null|                  0.3|        21.8|         2.0|      1.0|                 0.0|\n",
      "|       2| 2020-01-01 00:04:11|  2020-01-01 00:09:48|                 N|       1.0|         129|         129|            1.0|         0.71|        5.5|  0.5|    0.5|       0.0|         0.0|     null|                  0.3|         6.8|         2.0|      1.0|                 0.0|\n",
      "|       2| 2020-01-01 00:25:52|  2020-01-01 00:32:16|                 N|       1.0|         129|          83|            1.0|          0.8|        5.5|  0.5|    0.5|       0.0|         0.0|     null|                  0.3|         6.8|         2.0|      1.0|                 0.0|\n",
      "|       2| 2020-01-01 00:47:32|  2020-01-01 00:59:25|                 N|       1.0|          82|         173|            1.0|         1.52|        9.5|  0.5|    0.5|       0.0|         0.0|     null|                  0.3|        10.8|         2.0|      1.0|                 0.0|\n",
      "|       1| 2020-01-01 00:26:40|  2020-01-01 00:40:42|                 N|       1.0|          74|          69|            1.0|          3.8|       14.0|  0.5|    0.5|       0.0|         0.0|     null|                  0.3|        15.3|         2.0|      1.0|                 0.0|\n",
      "|       2| 2020-01-01 00:38:47|  2020-01-01 00:46:02|                 N|       1.0|          74|          41|            1.0|         1.12|        6.5|  0.5|    0.5|       0.0|         0.0|     null|                  0.3|         7.8|         1.0|      1.0|                 0.0|\n",
      "|       2| 2020-01-01 00:52:18|  2020-01-01 01:09:58|                 N|       1.0|          41|         127|            1.0|         5.67|       19.0|  0.5|    0.5|       0.0|         0.0|     null|                  0.3|        20.3|         2.0|      1.0|                 0.0|\n",
      "|       2| 2020-01-01 00:16:01|  2020-01-01 00:26:40|                 N|       1.0|           7|         260|            1.0|         1.86|        9.5|  0.5|    0.5|       0.0|         0.0|     null|                  0.3|        10.8|         2.0|      1.0|                 0.0|\n",
      "|       2| 2020-01-01 00:21:15|  2020-01-01 00:28:03|                 N|       1.0|           7|           7|            1.0|         1.42|        7.0|  0.5|    0.5|       0.0|         0.0|     null|                  0.3|         8.3|         2.0|      1.0|                 0.0|\n",
      "|       2| 2020-01-01 00:35:42|  2020-01-01 01:02:00|                 N|       1.0|           7|         133|            1.0|        15.48|       43.0|  0.5|    0.5|      8.86|         0.0|     null|                  0.3|       53.16|         1.0|      1.0|                 0.0|\n",
      "|       2| 2020-01-01 00:39:51|  2020-01-01 00:42:54|                 N|       1.0|         134|          28|            1.0|         1.15|        5.5|  0.5|    0.5|       1.0|         0.0|     null|                  0.3|         7.8|         1.0|      1.0|                 0.0|\n",
      "|       1| 2020-01-01 00:00:21|  2020-01-01 00:10:19|                 N|       1.0|          89|          39|            1.0|          2.3|       10.0|  0.5|    0.5|       0.0|         0.0|     null|                  0.3|        11.3|         2.0|      1.0|                 0.0|\n",
      "|       1| 2020-01-01 00:13:59|  2020-01-01 00:21:31|                 N|       1.0|          66|          65|            3.0|          1.0|        6.5|  0.5|    0.5|       0.0|         0.0|     null|                  0.3|         7.8|         2.0|      1.0|                 0.0|\n",
      "+--------+--------------------+---------------------+------------------+----------+------------+------------+---------------+-------------+-----------+-----+-------+----------+------------+---------+---------------------+------------+------------+---------+--------------------+\n",
      "only showing top 20 rows\n",
      "\n"
     ]
    }
   ],
   "source": [
    "df_green = spark.read \\\n",
    "                .option(\"headers\", \"true\") \\\n",
    "                .parquet(\"data/raw/green/2020/01/\")\n",
    "df_green.show()"
   ]
  },
  {
   "cell_type": "code",
   "execution_count": 28,
   "id": "9c9c1ab2",
   "metadata": {},
   "outputs": [
    {
     "name": "stdout",
     "output_type": "stream",
     "text": [
      "root\n",
      " |-- VendorID: long (nullable = true)\n",
      " |-- lpep_pickup_datetime: timestamp (nullable = true)\n",
      " |-- lpep_dropoff_datetime: timestamp (nullable = true)\n",
      " |-- store_and_fwd_flag: string (nullable = true)\n",
      " |-- RatecodeID: double (nullable = true)\n",
      " |-- PULocationID: long (nullable = true)\n",
      " |-- DOLocationID: long (nullable = true)\n",
      " |-- passenger_count: double (nullable = true)\n",
      " |-- trip_distance: double (nullable = true)\n",
      " |-- fare_amount: double (nullable = true)\n",
      " |-- extra: double (nullable = true)\n",
      " |-- mta_tax: double (nullable = true)\n",
      " |-- tip_amount: double (nullable = true)\n",
      " |-- tolls_amount: double (nullable = true)\n",
      " |-- ehail_fee: integer (nullable = true)\n",
      " |-- improvement_surcharge: double (nullable = true)\n",
      " |-- total_amount: double (nullable = true)\n",
      " |-- payment_type: double (nullable = true)\n",
      " |-- trip_type: double (nullable = true)\n",
      " |-- congestion_surcharge: double (nullable = true)\n",
      "\n"
     ]
    }
   ],
   "source": [
    "df_green.printSchema()"
   ]
  },
  {
   "cell_type": "code",
   "execution_count": 29,
   "id": "377587a2",
   "metadata": {},
   "outputs": [
    {
     "name": "stdout",
     "output_type": "stream",
     "text": [
      "+--------+--------------------+---------------------+---------------+-------------+----------+------------------+------------+------------+------------+-----------+-----+-------+----------+------------+---------------------+------------+--------------------+-----------+\n",
      "|VendorID|tpep_pickup_datetime|tpep_dropoff_datetime|passenger_count|trip_distance|RatecodeID|store_and_fwd_flag|PULocationID|DOLocationID|payment_type|fare_amount|extra|mta_tax|tip_amount|tolls_amount|improvement_surcharge|total_amount|congestion_surcharge|airport_fee|\n",
      "+--------+--------------------+---------------------+---------------+-------------+----------+------------------+------------+------------+------------+-----------+-----+-------+----------+------------+---------------------+------------+--------------------+-----------+\n",
      "|       1| 2020-01-01 00:28:15|  2020-01-01 00:33:03|            1.0|          1.2|       1.0|                 N|         238|         239|           1|        6.0|  3.0|    0.5|      1.47|         0.0|                  0.3|       11.27|                 2.5|       null|\n",
      "|       1| 2020-01-01 00:35:39|  2020-01-01 00:43:04|            1.0|          1.2|       1.0|                 N|         239|         238|           1|        7.0|  3.0|    0.5|       1.5|         0.0|                  0.3|        12.3|                 2.5|       null|\n",
      "|       1| 2020-01-01 00:47:41|  2020-01-01 00:53:52|            1.0|          0.6|       1.0|                 N|         238|         238|           1|        6.0|  3.0|    0.5|       1.0|         0.0|                  0.3|        10.8|                 2.5|       null|\n",
      "|       1| 2020-01-01 00:55:23|  2020-01-01 01:00:14|            1.0|          0.8|       1.0|                 N|         238|         151|           1|        5.5|  0.5|    0.5|      1.36|         0.0|                  0.3|        8.16|                 0.0|       null|\n",
      "|       2| 2020-01-01 00:01:58|  2020-01-01 00:04:16|            1.0|          0.0|       1.0|                 N|         193|         193|           2|        3.5|  0.5|    0.5|       0.0|         0.0|                  0.3|         4.8|                 0.0|       null|\n",
      "|       2| 2020-01-01 00:09:44|  2020-01-01 00:10:37|            1.0|         0.03|       1.0|                 N|           7|         193|           2|        2.5|  0.5|    0.5|       0.0|         0.0|                  0.3|         3.8|                 0.0|       null|\n",
      "|       2| 2020-01-01 00:39:25|  2020-01-01 00:39:29|            1.0|          0.0|       1.0|                 N|         193|         193|           1|        2.5|  0.5|    0.5|      0.01|         0.0|                  0.3|        3.81|                 0.0|       null|\n",
      "|       2| 2019-12-18 15:27:49|  2019-12-18 15:28:59|            1.0|          0.0|       5.0|                 N|         193|         193|           1|       0.01|  0.0|    0.0|       0.0|         0.0|                  0.3|        2.81|                 2.5|       null|\n",
      "|       2| 2019-12-18 15:30:35|  2019-12-18 15:31:35|            4.0|          0.0|       1.0|                 N|         193|         193|           1|        2.5|  0.5|    0.5|       0.0|         0.0|                  0.3|         6.3|                 2.5|       null|\n",
      "|       1| 2020-01-01 00:29:01|  2020-01-01 00:40:28|            2.0|          0.7|       1.0|                 N|         246|          48|           1|        8.0|  3.0|    0.5|      2.35|         0.0|                  0.3|       14.15|                 2.5|       null|\n",
      "|       1| 2020-01-01 00:55:11|  2020-01-01 01:12:03|            2.0|          2.4|       1.0|                 N|         246|          79|           1|       12.0|  3.0|    0.5|      1.75|         0.0|                  0.3|       17.55|                 2.5|       null|\n",
      "|       1| 2020-01-01 00:37:15|  2020-01-01 00:51:41|            1.0|          0.8|       1.0|                 N|         163|         161|           2|        9.5|  3.0|    0.5|       0.0|         0.0|                  0.3|        13.3|                 2.5|       null|\n",
      "|       1| 2020-01-01 00:56:27|  2020-01-01 01:21:44|            1.0|          3.3|       1.0|                 N|         161|         144|           1|       17.0|  3.0|    0.5|      4.15|         0.0|                  0.3|       24.95|                 2.5|       null|\n",
      "|       2| 2020-01-01 00:21:54|  2020-01-01 00:27:31|            1.0|         1.07|       1.0|                 N|          43|         239|           1|        6.0|  0.5|    0.5|      1.96|         0.0|                  0.3|       11.76|                 2.5|       null|\n",
      "|       2| 2020-01-01 00:38:01|  2020-01-01 01:15:21|            1.0|         7.76|       1.0|                 N|         143|          25|           1|       28.5|  0.5|    0.5|      4.84|         0.0|                  0.3|       37.14|                 2.5|       null|\n",
      "|       1| 2020-01-01 00:15:35|  2020-01-01 00:27:06|            3.0|          1.6|       1.0|                 N|         211|         234|           2|        9.0|  3.0|    0.5|       0.0|         0.0|                  0.3|        12.8|                 2.5|       null|\n",
      "|       1| 2020-01-01 00:41:20|  2020-01-01 00:44:22|            1.0|          0.5|       1.0|                 Y|         234|          90|           1|        4.0|  3.0|    0.5|       1.0|         0.0|                  0.3|         8.8|                 2.5|       null|\n",
      "|       1| 2020-01-01 00:56:38|  2020-01-01 01:13:34|            1.0|          1.7|       1.0|                 N|         246|         142|           2|       11.5|  3.0|    0.5|       0.0|         0.0|                  0.3|        15.3|                 2.5|       null|\n",
      "|       2| 2020-01-01 00:08:21|  2020-01-01 00:25:29|            1.0|         8.45|       1.0|                 N|         138|         216|           2|       24.5|  0.5|    0.5|       0.0|         0.0|                  0.3|        25.8|                 0.0|       null|\n",
      "|       1| 2020-01-01 00:25:39|  2020-01-01 00:27:05|            1.0|          0.0|       1.0|                 N|         170|         162|           4|        3.0|  3.0|    0.5|       0.0|         0.0|                  0.3|         6.8|                 2.5|       null|\n",
      "+--------+--------------------+---------------------+---------------+-------------+----------+------------------+------------+------------+------------+-----------+-----+-------+----------+------------+---------------------+------------+--------------------+-----------+\n",
      "only showing top 20 rows\n",
      "\n"
     ]
    }
   ],
   "source": [
    "df_yellow = spark.read \\\n",
    "                .option(\"headers\", \"true\") \\\n",
    "                .parquet(\"data/raw/yellow/2020/01/\")\n",
    "df_yellow.show()"
   ]
  },
  {
   "cell_type": "code",
   "execution_count": 30,
   "id": "d7428169",
   "metadata": {},
   "outputs": [
    {
     "name": "stdout",
     "output_type": "stream",
     "text": [
      "root\n",
      " |-- VendorID: long (nullable = true)\n",
      " |-- tpep_pickup_datetime: timestamp (nullable = true)\n",
      " |-- tpep_dropoff_datetime: timestamp (nullable = true)\n",
      " |-- passenger_count: double (nullable = true)\n",
      " |-- trip_distance: double (nullable = true)\n",
      " |-- RatecodeID: double (nullable = true)\n",
      " |-- store_and_fwd_flag: string (nullable = true)\n",
      " |-- PULocationID: long (nullable = true)\n",
      " |-- DOLocationID: long (nullable = true)\n",
      " |-- payment_type: long (nullable = true)\n",
      " |-- fare_amount: double (nullable = true)\n",
      " |-- extra: double (nullable = true)\n",
      " |-- mta_tax: double (nullable = true)\n",
      " |-- tip_amount: double (nullable = true)\n",
      " |-- tolls_amount: double (nullable = true)\n",
      " |-- improvement_surcharge: double (nullable = true)\n",
      " |-- total_amount: double (nullable = true)\n",
      " |-- congestion_surcharge: double (nullable = true)\n",
      " |-- airport_fee: integer (nullable = true)\n",
      "\n"
     ]
    }
   ],
   "source": [
    "df_yellow.printSchema()"
   ]
  },
  {
   "cell_type": "code",
   "execution_count": 42,
   "id": "de6c06ad",
   "metadata": {},
   "outputs": [
    {
     "name": "stdout",
     "output_type": "stream",
     "text": [
      "read data/raw/green/2020/01/\n",
      "Partitioning into data/pq/green/2020/01/\n"
     ]
    },
    {
     "name": "stderr",
     "output_type": "stream",
     "text": [
      "                                                                                \r"
     ]
    },
    {
     "name": "stdout",
     "output_type": "stream",
     "text": [
      "read data/raw/green/2020/02/\n",
      "Partitioning into data/pq/green/2020/02/\n"
     ]
    },
    {
     "name": "stderr",
     "output_type": "stream",
     "text": [
      "                                                                                \r"
     ]
    },
    {
     "name": "stdout",
     "output_type": "stream",
     "text": [
      "read data/raw/green/2020/03/\n",
      "Partitioning into data/pq/green/2020/03/\n",
      "read data/raw/green/2020/04/\n",
      "Partitioning into data/pq/green/2020/04/\n",
      "read data/raw/green/2020/05/\n",
      "Partitioning into data/pq/green/2020/05/\n",
      "read data/raw/green/2020/06/\n",
      "Partitioning into data/pq/green/2020/06/\n",
      "read data/raw/green/2020/07/\n",
      "Partitioning into data/pq/green/2020/07/\n",
      "read data/raw/green/2020/08/\n",
      "Partitioning into data/pq/green/2020/08/\n",
      "read data/raw/green/2020/09/\n",
      "Partitioning into data/pq/green/2020/09/\n",
      "read data/raw/green/2020/10/\n",
      "Partitioning into data/pq/green/2020/10/\n",
      "read data/raw/green/2020/11/\n",
      "Partitioning into data/pq/green/2020/11/\n",
      "read data/raw/green/2020/12/\n",
      "Partitioning into data/pq/green/2020/12/\n",
      "read data/raw/green/2021/01/\n",
      "Partitioning into data/pq/green/2021/01/\n",
      "read data/raw/green/2021/02/\n",
      "Partitioning into data/pq/green/2021/02/\n",
      "read data/raw/green/2021/03/\n",
      "Partitioning into data/pq/green/2021/03/\n",
      "read data/raw/green/2021/04/\n",
      "Partitioning into data/pq/green/2021/04/\n",
      "read data/raw/green/2021/05/\n",
      "Partitioning into data/pq/green/2021/05/\n",
      "read data/raw/green/2021/06/\n",
      "Partitioning into data/pq/green/2021/06/\n",
      "read data/raw/green/2021/07/\n",
      "Partitioning into data/pq/green/2021/07/\n",
      "read data/raw/green/2021/08/\n",
      "Partitioning into data/pq/green/2021/08/\n",
      "read data/raw/green/2021/09/\n",
      "Partitioning into data/pq/green/2021/09/\n",
      "read data/raw/green/2021/10/\n",
      "Partitioning into data/pq/green/2021/10/\n",
      "read data/raw/green/2021/11/\n",
      "Partitioning into data/pq/green/2021/11/\n",
      "read data/raw/green/2021/12/\n",
      "Partitioning into data/pq/green/2021/12/\n",
      "read data/raw/yellow/2020/01/\n",
      "Partitioning into data/pq/yellow/2020/01/\n"
     ]
    },
    {
     "name": "stderr",
     "output_type": "stream",
     "text": [
      "                                                                                \r"
     ]
    },
    {
     "name": "stdout",
     "output_type": "stream",
     "text": [
      "read data/raw/yellow/2020/02/\n",
      "Partitioning into data/pq/yellow/2020/02/\n"
     ]
    },
    {
     "name": "stderr",
     "output_type": "stream",
     "text": [
      "                                                                                \r"
     ]
    },
    {
     "name": "stdout",
     "output_type": "stream",
     "text": [
      "read data/raw/yellow/2020/03/\n",
      "Partitioning into data/pq/yellow/2020/03/\n"
     ]
    },
    {
     "name": "stderr",
     "output_type": "stream",
     "text": [
      "                                                                                \r"
     ]
    },
    {
     "name": "stdout",
     "output_type": "stream",
     "text": [
      "read data/raw/yellow/2020/04/\n",
      "Partitioning into data/pq/yellow/2020/04/\n",
      "read data/raw/yellow/2020/05/\n",
      "Partitioning into data/pq/yellow/2020/05/\n"
     ]
    },
    {
     "name": "stderr",
     "output_type": "stream",
     "text": [
      "\r",
      "[Stage 106:>                                                        (0 + 4) / 4]\r",
      "\r",
      "                                                                                \r"
     ]
    },
    {
     "name": "stdout",
     "output_type": "stream",
     "text": [
      "read data/raw/yellow/2020/06/\n",
      "Partitioning into data/pq/yellow/2020/06/\n"
     ]
    },
    {
     "name": "stderr",
     "output_type": "stream",
     "text": [
      "                                                                                \r"
     ]
    },
    {
     "name": "stdout",
     "output_type": "stream",
     "text": [
      "read data/raw/yellow/2020/07/\n",
      "Partitioning into data/pq/yellow/2020/07/\n"
     ]
    },
    {
     "name": "stderr",
     "output_type": "stream",
     "text": [
      "                                                                                \r"
     ]
    },
    {
     "name": "stdout",
     "output_type": "stream",
     "text": [
      "read data/raw/yellow/2020/08/\n",
      "Partitioning into data/pq/yellow/2020/08/\n"
     ]
    },
    {
     "name": "stderr",
     "output_type": "stream",
     "text": [
      "                                                                                \r"
     ]
    },
    {
     "name": "stdout",
     "output_type": "stream",
     "text": [
      "read data/raw/yellow/2020/09/\n",
      "Partitioning into data/pq/yellow/2020/09/\n"
     ]
    },
    {
     "name": "stderr",
     "output_type": "stream",
     "text": [
      "                                                                                \r"
     ]
    },
    {
     "name": "stdout",
     "output_type": "stream",
     "text": [
      "read data/raw/yellow/2020/10/\n",
      "Partitioning into data/pq/yellow/2020/10/\n"
     ]
    },
    {
     "name": "stderr",
     "output_type": "stream",
     "text": [
      "                                                                                \r"
     ]
    },
    {
     "name": "stdout",
     "output_type": "stream",
     "text": [
      "read data/raw/yellow/2020/11/\n",
      "Partitioning into data/pq/yellow/2020/11/\n"
     ]
    },
    {
     "name": "stderr",
     "output_type": "stream",
     "text": [
      "                                                                                \r"
     ]
    },
    {
     "name": "stdout",
     "output_type": "stream",
     "text": [
      "read data/raw/yellow/2020/12/\n",
      "Partitioning into data/pq/yellow/2020/12/\n"
     ]
    },
    {
     "name": "stderr",
     "output_type": "stream",
     "text": [
      "                                                                                \r"
     ]
    },
    {
     "name": "stdout",
     "output_type": "stream",
     "text": [
      "read data/raw/yellow/2021/01/\n",
      "Partitioning into data/pq/yellow/2021/01/\n"
     ]
    },
    {
     "name": "stderr",
     "output_type": "stream",
     "text": [
      "                                                                                \r"
     ]
    },
    {
     "name": "stdout",
     "output_type": "stream",
     "text": [
      "read data/raw/yellow/2021/02/\n",
      "Partitioning into data/pq/yellow/2021/02/\n"
     ]
    },
    {
     "name": "stderr",
     "output_type": "stream",
     "text": [
      "                                                                                \r"
     ]
    },
    {
     "name": "stdout",
     "output_type": "stream",
     "text": [
      "read data/raw/yellow/2021/03/\n",
      "Partitioning into data/pq/yellow/2021/03/\n"
     ]
    },
    {
     "name": "stderr",
     "output_type": "stream",
     "text": [
      "                                                                                \r"
     ]
    },
    {
     "name": "stdout",
     "output_type": "stream",
     "text": [
      "read data/raw/yellow/2021/04/\n",
      "Partitioning into data/pq/yellow/2021/04/\n"
     ]
    },
    {
     "name": "stderr",
     "output_type": "stream",
     "text": [
      "                                                                                \r"
     ]
    },
    {
     "name": "stdout",
     "output_type": "stream",
     "text": [
      "read data/raw/yellow/2021/05/\n",
      "Partitioning into data/pq/yellow/2021/05/\n"
     ]
    },
    {
     "name": "stderr",
     "output_type": "stream",
     "text": [
      "                                                                                \r"
     ]
    },
    {
     "name": "stdout",
     "output_type": "stream",
     "text": [
      "read data/raw/yellow/2021/06/\n",
      "Partitioning into data/pq/yellow/2021/06/\n"
     ]
    },
    {
     "name": "stderr",
     "output_type": "stream",
     "text": [
      "                                                                                \r"
     ]
    },
    {
     "name": "stdout",
     "output_type": "stream",
     "text": [
      "read data/raw/yellow/2021/07/\n",
      "Partitioning into data/pq/yellow/2021/07/\n"
     ]
    },
    {
     "name": "stderr",
     "output_type": "stream",
     "text": [
      "                                                                                \r"
     ]
    },
    {
     "name": "stdout",
     "output_type": "stream",
     "text": [
      "read data/raw/yellow/2021/08/\n",
      "Partitioning into data/pq/yellow/2021/08/\n"
     ]
    },
    {
     "name": "stderr",
     "output_type": "stream",
     "text": [
      "                                                                                \r"
     ]
    },
    {
     "name": "stdout",
     "output_type": "stream",
     "text": [
      "read data/raw/yellow/2021/09/\n",
      "Partitioning into data/pq/yellow/2021/09/\n"
     ]
    },
    {
     "name": "stderr",
     "output_type": "stream",
     "text": [
      "                                                                                \r"
     ]
    },
    {
     "name": "stdout",
     "output_type": "stream",
     "text": [
      "read data/raw/yellow/2021/10/\n",
      "Partitioning into data/pq/yellow/2021/10/\n"
     ]
    },
    {
     "name": "stderr",
     "output_type": "stream",
     "text": [
      "                                                                                \r"
     ]
    },
    {
     "name": "stdout",
     "output_type": "stream",
     "text": [
      "read data/raw/yellow/2021/11/\n",
      "Partitioning into data/pq/yellow/2021/11/\n"
     ]
    },
    {
     "name": "stderr",
     "output_type": "stream",
     "text": [
      "                                                                                \r"
     ]
    },
    {
     "name": "stdout",
     "output_type": "stream",
     "text": [
      "read data/raw/yellow/2021/12/\n",
      "Partitioning into data/pq/yellow/2021/12/\n"
     ]
    },
    {
     "name": "stderr",
     "output_type": "stream",
     "text": [
      "                                                                                \r"
     ]
    }
   ],
   "source": [
    "years = [2020, 2021]\n",
    "colors = ['green', 'yellow']\n",
    "\n",
    "for color in colors:\n",
    "    for year in years:\n",
    "        for month in range(1,13):            \n",
    "            input_path=f'data/raw/{color}/{year}/{month:02d}/'\n",
    "            output_path=f'data/pq/{color}/{year}/{month:02d}/'\n",
    "            \n",
    "            print(f'read {input_path}')                        \n",
    "            input_file = spark.read.parquet(input_path)\n",
    "            \n",
    "            print(f'Partitioning into {output_path}')\n",
    "            input_file \\\n",
    "                    .repartition(4) \\\n",
    "                    .write.parquet(output_path)"
   ]
  },
  {
   "cell_type": "markdown",
   "id": "27d80cd4",
   "metadata": {},
   "source": [
    "### Combining Yellow and Green Taxi Data"
   ]
  },
  {
   "cell_type": "code",
   "execution_count": 50,
   "id": "f4a45b6c",
   "metadata": {},
   "outputs": [],
   "source": [
    "df_green = df_green \\\n",
    "    .withColumnRenamed('lpep_pickup_datetime', 'pickup_datetime') \\\n",
    "    .withColumnRenamed('lpep_dropoff_datetime', 'dropoff_datetime')"
   ]
  },
  {
   "cell_type": "code",
   "execution_count": 52,
   "id": "eaa7a930",
   "metadata": {},
   "outputs": [],
   "source": [
    "df_yellow = df_yellow \\\n",
    "    .withColumnRenamed('tpep_pickup_datetime', 'pickup_datetime') \\\n",
    "    .withColumnRenamed('tpep_dropoff_datetime', 'dropoff_datetime')"
   ]
  },
  {
   "cell_type": "code",
   "execution_count": 58,
   "id": "52282c47",
   "metadata": {},
   "outputs": [
    {
     "data": {
      "text/plain": [
       "{'DOLocationID',\n",
       " 'PULocationID',\n",
       " 'RatecodeID',\n",
       " 'VendorID',\n",
       " 'congestion_surcharge',\n",
       " 'dropoff_datetime',\n",
       " 'extra',\n",
       " 'fare_amount',\n",
       " 'improvement_surcharge',\n",
       " 'mta_tax',\n",
       " 'passenger_count',\n",
       " 'payment_type',\n",
       " 'pickup_datetime',\n",
       " 'store_and_fwd_flag',\n",
       " 'tip_amount',\n",
       " 'tolls_amount',\n",
       " 'total_amount',\n",
       " 'trip_distance'}"
      ]
     },
     "execution_count": 58,
     "metadata": {},
     "output_type": "execute_result"
    }
   ],
   "source": [
    "set(df_green.columns) & set(df_yellow.columns)"
   ]
  },
  {
   "cell_type": "code",
   "execution_count": 60,
   "id": "c817651c",
   "metadata": {},
   "outputs": [
    {
     "data": {
      "text/plain": [
       "['VendorID',\n",
       " 'pickup_datetime',\n",
       " 'dropoff_datetime',\n",
       " 'store_and_fwd_flag',\n",
       " 'RatecodeID',\n",
       " 'PULocationID',\n",
       " 'DOLocationID',\n",
       " 'passenger_count',\n",
       " 'trip_distance',\n",
       " 'fare_amount',\n",
       " 'extra',\n",
       " 'mta_tax',\n",
       " 'tip_amount',\n",
       " 'tolls_amount',\n",
       " 'ehail_fee',\n",
       " 'improvement_surcharge',\n",
       " 'total_amount',\n",
       " 'payment_type',\n",
       " 'trip_type',\n",
       " 'congestion_surcharge']"
      ]
     },
     "execution_count": 60,
     "metadata": {},
     "output_type": "execute_result"
    }
   ],
   "source": [
    "df_green.columns"
   ]
  },
  {
   "cell_type": "code",
   "execution_count": 59,
   "id": "0bcefbbe",
   "metadata": {},
   "outputs": [
    {
     "data": {
      "text/plain": [
       "['VendorID',\n",
       " 'pickup_datetime',\n",
       " 'dropoff_datetime',\n",
       " 'passenger_count',\n",
       " 'trip_distance',\n",
       " 'RatecodeID',\n",
       " 'store_and_fwd_flag',\n",
       " 'PULocationID',\n",
       " 'DOLocationID',\n",
       " 'payment_type',\n",
       " 'fare_amount',\n",
       " 'extra',\n",
       " 'mta_tax',\n",
       " 'tip_amount',\n",
       " 'tolls_amount',\n",
       " 'improvement_surcharge',\n",
       " 'total_amount',\n",
       " 'congestion_surcharge',\n",
       " 'airport_fee']"
      ]
     },
     "execution_count": 59,
     "metadata": {},
     "output_type": "execute_result"
    }
   ],
   "source": [
    "df_yellow.columns"
   ]
  },
  {
   "cell_type": "code",
   "execution_count": 61,
   "id": "64e10908",
   "metadata": {},
   "outputs": [
    {
     "data": {
      "text/plain": [
       "['VendorID',\n",
       " 'pickup_datetime',\n",
       " 'dropoff_datetime',\n",
       " 'store_and_fwd_flag',\n",
       " 'RatecodeID',\n",
       " 'PULocationID',\n",
       " 'DOLocationID',\n",
       " 'passenger_count',\n",
       " 'trip_distance',\n",
       " 'fare_amount',\n",
       " 'extra',\n",
       " 'mta_tax',\n",
       " 'tip_amount',\n",
       " 'tolls_amount',\n",
       " 'improvement_surcharge',\n",
       " 'total_amount',\n",
       " 'payment_type',\n",
       " 'congestion_surcharge']"
      ]
     },
     "execution_count": 61,
     "metadata": {},
     "output_type": "execute_result"
    }
   ],
   "source": [
    "common_columns = []\n",
    "\n",
    "for col in df_green.columns:\n",
    "    if col in set(df_yellow.columns):\n",
    "        common_columns.append(col)\n",
    "        \n",
    "common_columns"
   ]
  },
  {
   "cell_type": "code",
   "execution_count": 62,
   "id": "d189b8cc",
   "metadata": {},
   "outputs": [],
   "source": [
    "from pyspark.sql import functions as F"
   ]
  },
  {
   "cell_type": "code",
   "execution_count": 64,
   "id": "5d2cab22",
   "metadata": {},
   "outputs": [],
   "source": [
    "df_green_sel = df_green \\\n",
    "    .select(common_columns) \\\n",
    "    .withColumn('service_type', F.lit('green'))"
   ]
  },
  {
   "cell_type": "code",
   "execution_count": 65,
   "id": "70cdfa1e",
   "metadata": {},
   "outputs": [],
   "source": [
    "df_yellow_sel = df_yellow \\\n",
    "    .select(common_columns) \\\n",
    "    .withColumn('service_type', F.lit('yellow'))"
   ]
  },
  {
   "cell_type": "code",
   "execution_count": 66,
   "id": "e5b15057",
   "metadata": {},
   "outputs": [
    {
     "name": "stdout",
     "output_type": "stream",
     "text": [
      "+--------+-------------------+-------------------+------------------+----------+------------+------------+---------------+-------------+-----------+-----+-------+----------+------------+---------------------+------------+------------+--------------------+------------+\n",
      "|VendorID|    pickup_datetime|   dropoff_datetime|store_and_fwd_flag|RatecodeID|PULocationID|DOLocationID|passenger_count|trip_distance|fare_amount|extra|mta_tax|tip_amount|tolls_amount|improvement_surcharge|total_amount|payment_type|congestion_surcharge|service_type|\n",
      "+--------+-------------------+-------------------+------------------+----------+------------+------------+---------------+-------------+-----------+-----+-------+----------+------------+---------------------+------------+------------+--------------------+------------+\n",
      "|       1|2020-01-02 18:49:18|2020-01-02 19:06:24|                 N|       1.0|         263|         230|            0.0|          2.7|       13.0|  3.5|    0.5|      3.45|         0.0|                  0.3|       20.75|           1|                 2.5|      yellow|\n",
      "|       2|2020-01-30 19:15:47|2020-01-30 19:40:38|              null|      null|         147|          41|           null|         4.58|      25.28| 2.75|    0.0|       0.0|         0.0|                  0.3|       28.33|           0|                null|      yellow|\n",
      "|       2|2020-01-06 21:05:11|2020-01-06 21:08:07|                 N|       1.0|         142|         239|            2.0|         0.83|        4.5|  0.5|    0.5|       1.0|         0.0|                  0.3|         9.3|           1|                 2.5|      yellow|\n",
      "|       2|2020-01-07 09:13:36|2020-01-07 09:18:26|                 N|       1.0|         107|          79|            1.0|         0.96|        5.5|  0.0|    0.5|       0.0|         0.0|                  0.3|         8.8|           2|                 2.5|      yellow|\n",
      "|       2|2020-01-21 08:42:00|2020-01-21 08:56:55|                 N|       1.0|         143|          68|            3.0|         2.05|       10.5|  0.0|    0.5|      2.76|         0.0|                  0.3|       16.56|           1|                 2.5|      yellow|\n",
      "|       1|2020-01-31 17:03:33|2020-01-31 17:16:58|                 N|       1.0|         142|          68|            0.0|          2.1|       10.5|  3.5|    0.5|      2.95|         0.0|                  0.3|       17.75|           1|                 2.5|      yellow|\n",
      "|       2|2020-01-19 08:27:57|2020-01-19 08:33:04|                 N|       1.0|          68|         249|            2.0|         0.71|        5.5|  0.0|    0.5|      1.32|         0.0|                  0.3|       10.12|           1|                 2.5|      yellow|\n",
      "|       2|2020-01-24 19:32:13|2020-01-24 19:40:48|                 N|       1.0|         142|         151|            1.0|         2.34|        9.0|  1.0|    0.5|       0.0|         0.0|                  0.3|        13.3|           2|                 2.5|      yellow|\n",
      "|       1|2020-01-12 00:42:03|2020-01-12 00:56:42|                 N|       1.0|         209|         262|            2.0|          6.8|       20.0|  3.0|    0.5|      4.75|         0.0|                  0.3|       28.55|           1|                 2.5|      yellow|\n",
      "|       2|2020-01-27 17:04:42|2020-01-27 17:15:05|                 N|       1.0|         234|         170|            5.0|         1.22|        8.5|  1.0|    0.5|       3.2|         0.0|                  0.3|        16.0|           1|                 2.5|      yellow|\n",
      "|       2|2020-01-27 17:15:38|2020-01-27 17:34:22|                 N|       1.0|         152|         163|            1.0|         5.03|       19.0|  1.0|    0.5|       0.0|         0.0|                  0.3|        23.3|           2|                 2.5|      yellow|\n",
      "|       2|2020-01-12 07:14:03|2020-01-12 07:41:20|                 N|       1.0|         264|         264|            6.0|          9.7|       31.0|  0.0|    0.5|       0.0|         0.0|                  0.3|        31.8|           1|                 0.0|      yellow|\n",
      "|       1|2020-01-24 13:15:42|2020-01-24 13:45:13|                 N|       1.0|         170|         239|            1.0|          6.3|       24.0|  2.5|    0.5|       2.5|         0.0|                  0.3|        29.8|           1|                 2.5|      yellow|\n",
      "|       1|2020-01-24 07:38:49|2020-01-24 07:39:00|                 N|       2.0|          79|          79|            1.0|          0.0|       52.0|  2.5|    0.5|     12.25|        6.12|                  0.3|       73.67|           1|                 2.5|      yellow|\n",
      "|       2|2020-01-22 19:18:41|2020-01-22 19:22:58|                 N|       1.0|         262|         236|            1.0|         0.57|        5.0|  1.0|    0.5|       1.0|         0.0|                  0.3|        10.3|           1|                 2.5|      yellow|\n",
      "|       2|2020-01-09 22:52:12|2020-01-09 22:58:32|                 N|       1.0|          90|         170|            2.0|          1.3|        6.5|  0.5|    0.5|       0.0|         0.0|                  0.3|        10.3|           2|                 2.5|      yellow|\n",
      "|       2|2020-01-24 10:29:59|2020-01-24 10:32:00|                 N|       1.0|          79|         107|            1.0|         0.28|        3.5|  0.0|    0.5|      1.36|         0.0|                  0.3|        8.16|           1|                 2.5|      yellow|\n",
      "|       2|2020-01-29 16:30:37|2020-01-29 16:30:52|                 N|       1.0|         164|         164|            3.0|          0.0|        2.5|  1.0|    0.5|       0.0|         0.0|                  0.3|         6.8|           2|                 2.5|      yellow|\n",
      "|       2|2020-01-18 17:26:33|2020-01-18 17:43:45|                 N|       1.0|          43|         230|            5.0|         2.86|       13.0|  0.0|    0.5|      3.26|         0.0|                  0.3|       19.56|           1|                 2.5|      yellow|\n",
      "|       2|2020-01-04 06:36:09|2020-01-04 06:40:25|                 N|       1.0|         246|          68|            1.0|         0.68|        5.0|  0.0|    0.5|      1.66|         0.0|                  0.3|        9.96|           1|                 2.5|      yellow|\n",
      "+--------+-------------------+-------------------+------------------+----------+------------+------------+---------------+-------------+-----------+-----+-------+----------+------------+---------------------+------------+------------+--------------------+------------+\n",
      "only showing top 20 rows\n",
      "\n"
     ]
    }
   ],
   "source": [
    "df_yellow_sel.show()"
   ]
  },
  {
   "cell_type": "code",
   "execution_count": 67,
   "id": "1931195a",
   "metadata": {},
   "outputs": [],
   "source": [
    "df_trips_data = df_green_sel.unionAll(df_yellow_sel)"
   ]
  },
  {
   "cell_type": "code",
   "execution_count": 68,
   "id": "052a3ad7",
   "metadata": {},
   "outputs": [
    {
     "name": "stderr",
     "output_type": "stream",
     "text": [
      "                                                                                \r"
     ]
    },
    {
     "name": "stdout",
     "output_type": "stream",
     "text": [
      "+------------+--------+\n",
      "|service_type|   count|\n",
      "+------------+--------+\n",
      "|       green| 2802931|\n",
      "|      yellow|55553400|\n",
      "+------------+--------+\n",
      "\n"
     ]
    }
   ],
   "source": [
    "df_trips_data.groupBy('service_type').count().show()"
   ]
  },
  {
   "cell_type": "markdown",
   "id": "88c3cad7",
   "metadata": {},
   "source": [
    "### Using Spark SQL"
   ]
  },
  {
   "cell_type": "code",
   "execution_count": 50,
   "id": "896c298d",
   "metadata": {},
   "outputs": [
    {
     "ename": "NameError",
     "evalue": "name 'df_trips_data' is not defined",
     "output_type": "error",
     "traceback": [
      "\u001b[0;31m---------------------------------------------------------------------------\u001b[0m",
      "\u001b[0;31mNameError\u001b[0m                                 Traceback (most recent call last)",
      "\u001b[0;32m/tmp/ipykernel_153760/48734532.py\u001b[0m in \u001b[0;36m<module>\u001b[0;34m\u001b[0m\n\u001b[1;32m      1\u001b[0m \u001b[0;31m# Register Dataframe as a Table\u001b[0m\u001b[0;34m\u001b[0m\u001b[0;34m\u001b[0m\u001b[0m\n\u001b[0;32m----> 2\u001b[0;31m \u001b[0mdf_trips_data\u001b[0m\u001b[0;34m.\u001b[0m\u001b[0mregisterTempTable\u001b[0m\u001b[0;34m(\u001b[0m\u001b[0;34m'trips_data'\u001b[0m\u001b[0;34m)\u001b[0m\u001b[0;34m\u001b[0m\u001b[0;34m\u001b[0m\u001b[0m\n\u001b[0m",
      "\u001b[0;31mNameError\u001b[0m: name 'df_trips_data' is not defined"
     ]
    }
   ],
   "source": [
    "# Register Dataframe as a Table\n",
    "df_trips_data.registerTempTable('trips_data')"
   ]
  },
  {
   "cell_type": "code",
   "execution_count": 73,
   "id": "b05188c4",
   "metadata": {},
   "outputs": [
    {
     "name": "stderr",
     "output_type": "stream",
     "text": [
      "                                                                                \r"
     ]
    },
    {
     "name": "stdout",
     "output_type": "stream",
     "text": [
      "+------------+--------+\n",
      "|service_type|   count|\n",
      "+------------+--------+\n",
      "|       green| 2802931|\n",
      "|      yellow|55553400|\n",
      "+------------+--------+\n",
      "\n"
     ]
    }
   ],
   "source": [
    "spark.sql(\"\"\"\n",
    "SELECT \n",
    "    service_type,\n",
    "    COUNT(1) AS count\n",
    "FROM \n",
    "    trips_data \n",
    "GROUP BY \n",
    "    1;\n",
    "\"\"\").show()"
   ]
  },
  {
   "cell_type": "code",
   "execution_count": 79,
   "id": "fd18fccc",
   "metadata": {},
   "outputs": [],
   "source": [
    "df_result = spark.sql(\n",
    "\"\"\"\n",
    "SELECT\n",
    "  -- Revenue Grouping\n",
    "  PULocationID AS revenue_zone,\n",
    "  date_trunc('month', pickup_datetime) AS revenue_month,\n",
    "  service_type,\n",
    "\n",
    "  -- Revenue Calculation\n",
    "  SUM(fare_amount) AS revenue_monthly_fare,\n",
    "  SUM(extra) AS revenue_monthly_extra,\n",
    "  SUM(mta_tax) AS revenue_monthly_mta_tax,\n",
    "  SUM(tip_amount) AS revenue_monthly_tip_amount,\n",
    "  SUM(tolls_amount) AS revenue_monthly_tolls_amount,\n",
    "  SUM(improvement_surcharge) AS revenue_monthly_improvement_surcharge,\n",
    "  SUM(total_amount) AS revenue_monthly_total_amount,\n",
    "  SUM(congestion_surcharge) AS revenue_monthly_congestion_surcharge,\n",
    "\n",
    "  -- Aggregated Counts\n",
    "  AVG(passenger_count) AS avg_monthly_passenger_count,\n",
    "  AVG(trip_distance) AS avg_monthly_trip_distance\n",
    "\n",
    "  FROM tripS_data\n",
    "  GROUP BY 1, 2, 3\n",
    "\"\"\")"
   ]
  },
  {
   "cell_type": "code",
   "execution_count": 80,
   "id": "4779c309",
   "metadata": {},
   "outputs": [
    {
     "name": "stderr",
     "output_type": "stream",
     "text": [
      "[Stage 214:=================================================>     (18 + 2) / 20]\r"
     ]
    },
    {
     "name": "stdout",
     "output_type": "stream",
     "text": [
      "+------------+-------------------+------------+--------------------+---------------------+-----------------------+--------------------------+----------------------------+-------------------------------------+----------------------------+------------------------------------+---------------------------+-------------------------+\n",
      "|revenue_zone|      revenue_month|service_type|revenue_monthly_fare|revenue_monthly_extra|revenue_monthly_mta_tax|revenue_monthly_tip_amount|revenue_monthly_tolls_amount|revenue_monthly_improvement_surcharge|revenue_monthly_total_amount|revenue_monthly_congestion_surcharge|avg_monthly_passenger_count|avg_monthly_trip_distance|\n",
      "+------------+-------------------+------------+--------------------+---------------------+-----------------------+--------------------------+----------------------------+-------------------------------------+----------------------------+------------------------------------+---------------------------+-------------------------+\n",
      "|         232|2020-01-01 00:00:00|       green|  7108.4500000000035|                502.0|                  32.55|                       0.0|          186.64000000000004|                    75.29999999999964|           7904.939999999998|                                2.75|         1.1428571428571428|        5.600396825396827|\n",
      "|          61|2020-02-01 00:00:00|       green|   69339.43000000001|               5996.0|                  893.0|        1025.1799999999994|           741.7500000000005|                    999.8999999999397|           79369.61000000064|                              120.75|         1.2360128617363344|       3.5227986444507238|\n",
      "|          76|2020-03-01 00:00:00|       green|   29693.68000000006|               225.75|                  160.0|                     59.29|           793.7900000000003|                    402.0000000000095|           31531.75999999983|                                 0.0|         1.2048611111111112|        5.929696521095493|\n",
      "|         168|2020-03-01 00:00:00|       green|  16018.860000000015|                261.5|                  291.5|                    222.31|           624.2900000000003|                   298.50000000000557|          17858.309999999805|                               74.25|         1.2292993630573248|        4.038592375366563|\n",
      "|         202|2021-11-01 00:00:00|       green|  2671.8000000000006|               139.45|                   20.0|                     28.93|          117.89999999999996|                   23.400000000000034|           3009.730000000001|                                 5.5|                      1.075|        8.063461538461537|\n",
      "|          77|2021-11-01 00:00:00|       green|   7459.160000000002|   388.45000000000005|                   28.0|                     14.97|           345.0700000000003|                   59.099999999999795|           8297.500000000004|                                 0.0|         1.3833333333333333|        9.540203045685281|\n",
      "|         138|2021-12-01 00:00:00|       green|              953.71|                  5.0|                   12.0|        188.33999999999995|          45.849999999999994|                   11.100000000000005|                     1224.25|                                8.25|         1.2432432432432432|       3.9623076923076916|\n",
      "|          55|2021-09-01 00:00:00|       green|   22734.40000000003|    968.7000000000003|                   97.0|         555.8499999999999|            754.849999999999|                    169.5000000000007|          25321.549999999923|                               30.25|          1.361904761904762|        577.1608626760567|\n",
      "|         209|2021-09-01 00:00:00|       green|              792.01|                 49.5|                    1.0|                       0.0|                       15.55|                    5.999999999999998|                      864.06|                                 0.0|                        1.0|        9.315000000000001|\n",
      "|         134|2020-10-01 00:00:00|       green|  11178.410000000003|                173.5|                  198.0|        1080.0600000000009|          253.56000000000012|                    182.7000000000012|          13123.979999999925|                               41.25|         1.5550122249388754|        4.502791461412154|\n",
      "|         260|2020-09-01 00:00:00|       green|   6625.929999999998|                 49.5|                  133.0|                    521.55|          134.28000000000003|                    117.2999999999996|           7639.310000000018|                               52.25|         1.2394366197183098|       3.5275888324873113|\n",
      "|         112|2021-06-01 00:00:00|       green|  2351.2999999999997|                75.25|                   23.5|                    293.51|           58.94999999999999|                    32.10000000000005|           2897.860000000002|                               24.75|         1.2765957446808511|        5.344766355140186|\n",
      "|         238|2021-05-01 00:00:00|       green|             1727.66|   171.74999999999997|                   5.05|         4.300000000000001|           54.53999999999999|                   18.900000000000023|          1991.1999999999996|                                2.75|                        1.0|        6.403437500000001|\n",
      "|         264|2021-05-01 00:00:00|       green|   2451.029999999999|                39.75|                   51.5|        151.71000000000004|                       26.91|                   48.599999999999895|           2769.500000000002|                                8.25|         1.4685714285714286|      0.47361581920903956|\n",
      "|          97|2020-11-01 00:00:00|       green|   33347.72000000012|               614.25|                  817.0|         4126.169999999996|          110.13000000000002|                    655.7999999999919|          39961.320000000036|                               307.5|         1.1478365384615385|        94.52418256130792|\n",
      "|         181|2020-11-01 00:00:00|       green|            17155.17|                130.5|                  227.0|         1998.139999999999|                      159.87|                   279.60000000000485|          20087.029999999893|                              112.75|         1.2778993435448578|       3.5390343347639504|\n",
      "|          28|2020-09-01 00:00:00|       green|             3213.51|                  4.5|                   12.5|                    316.43|          110.21000000000001|                    37.80000000000005|           3694.949999999999|                                 0.0|         1.1481481481481481|        5.814761904761905|\n",
      "|         256|2020-09-01 00:00:00|       green|             2782.37|                26.25|                   25.5|                     291.7|                       51.25|                    34.50000000000004|           3246.069999999999|                                21.5|          1.435483870967742|        4.829747899159664|\n",
      "|         155|2020-09-01 00:00:00|       green|   7730.889999999998|                  5.0|                    9.5|                     694.0|          171.78000000000003|                     78.8999999999998|                     8690.07|                                 0.0|                        1.5|        6.839809885931556|\n",
      "|         113|2021-04-01 00:00:00|       green|              595.24|                 49.5|                    0.0|                       0.0|                       31.46|                    5.699999999999998|                       681.9|                                null|                       null|        7.722105263157893|\n",
      "+------------+-------------------+------------+--------------------+---------------------+-----------------------+--------------------------+----------------------------+-------------------------------------+----------------------------+------------------------------------+---------------------------+-------------------------+\n",
      "only showing top 20 rows\n",
      "\n"
     ]
    },
    {
     "name": "stderr",
     "output_type": "stream",
     "text": [
      "\r",
      "[Stage 214:====================================================>  (19 + 1) / 20]\r",
      "\r",
      "                                                                                \r"
     ]
    }
   ],
   "source": [
    "df_result.show()"
   ]
  },
  {
   "cell_type": "code",
   "execution_count": 82,
   "id": "86798eba",
   "metadata": {},
   "outputs": [
    {
     "name": "stderr",
     "output_type": "stream",
     "text": [
      "                                                                                \r"
     ]
    }
   ],
   "source": [
    "df_result.coalesce(1).write.parquet('data/report/revenue/', mode='overwrite')"
   ]
  },
  {
   "cell_type": "markdown",
   "id": "1e9fda8e",
   "metadata": {},
   "source": [
    "### Understanding GROUP BY in Spark"
   ]
  },
  {
   "cell_type": "code",
   "execution_count": 9,
   "id": "d6172d9c",
   "metadata": {},
   "outputs": [],
   "source": [
    "df_green.registerTempTable('green')"
   ]
  },
  {
   "cell_type": "code",
   "execution_count": 49,
   "id": "b743a7a4",
   "metadata": {},
   "outputs": [],
   "source": [
    "df_green_revenue = spark.sql(\n",
    "\"\"\"\n",
    "SELECT\n",
    "  -- Revenue Grouping\n",
    "  date_trunc('hour', lpep_pickup_datetime) AS hour,\n",
    "  PULocationID AS zone,  \n",
    "\n",
    "  -- Revenue Calculation\n",
    "  SUM(total_amount) AS amount,\n",
    "  COUNT(1) AS number_records\n",
    "\n",
    "FROM \n",
    "    green\n",
    "WHERE \n",
    "    lpep_pickup_datetime >= '2020-01-01 00:00:00'\n",
    "GROUP BY \n",
    "    1, 2\n",
    "\"\"\")"
   ]
  },
  {
   "cell_type": "code",
   "execution_count": 50,
   "id": "8c27f424",
   "metadata": {},
   "outputs": [
    {
     "name": "stderr",
     "output_type": "stream",
     "text": [
      "                                                                                \r"
     ]
    }
   ],
   "source": [
    "df_green_revenue \\\n",
    "    .repartition(20) \\\n",
    "    .write.parquet('data/report/revenue/green', mode='overwrite')"
   ]
  },
  {
   "cell_type": "code",
   "execution_count": 51,
   "id": "7534f1bb",
   "metadata": {},
   "outputs": [],
   "source": [
    "df_yellow.registerTempTable('yellow')"
   ]
  },
  {
   "cell_type": "code",
   "execution_count": 52,
   "id": "509e4cf2",
   "metadata": {},
   "outputs": [],
   "source": [
    "df_yellow_revenue = spark.sql(\n",
    "\"\"\"\n",
    "SELECT\n",
    "  -- Revenue Grouping\n",
    "  date_trunc('hour', tpep_pickup_datetime) AS hour,\n",
    "  PULocationID AS zone,  \n",
    "\n",
    "  -- Revenue Calculation\n",
    "  SUM(total_amount) AS amount,\n",
    "  COUNT(1) AS number_records\n",
    "\n",
    "FROM \n",
    "    yellow\n",
    "WHERE \n",
    "    tpep_pickup_datetime >= '2020-01-01 00:00:00'\n",
    "GROUP BY \n",
    "    1, 2\n",
    "\"\"\")"
   ]
  },
  {
   "cell_type": "code",
   "execution_count": 53,
   "id": "972ba93c",
   "metadata": {},
   "outputs": [
    {
     "name": "stderr",
     "output_type": "stream",
     "text": [
      "                                                                                \r"
     ]
    }
   ],
   "source": [
    "df_yellow_revenue \\\n",
    "    .repartition(20) \\\n",
    "    .write.parquet('data/report/revenue/yellow', mode='overwrite')"
   ]
  },
  {
   "cell_type": "code",
   "execution_count": 20,
   "id": "89939a42",
   "metadata": {},
   "outputs": [
    {
     "name": "stderr",
     "output_type": "stream",
     "text": [
      "[Stage 18:====================================================>   (15 + 1) / 16]\r"
     ]
    },
    {
     "name": "stdout",
     "output_type": "stream",
     "text": [
      "+-------------------+----+------------------+--------------+\n",
      "|               hour|zone|            amount|number_records|\n",
      "+-------------------+----+------------------+--------------+\n",
      "|2020-01-14 14:00:00| 138|14898.500000000015|           339|\n",
      "|2020-01-11 22:00:00| 132|18350.820000000025|           355|\n",
      "|2020-01-22 16:00:00| 230| 9063.570000000018|           507|\n",
      "|2020-01-12 02:00:00|   4|1224.3200000000002|            71|\n",
      "|2020-01-13 11:00:00| 237| 7470.460000000019|           550|\n",
      "|2020-01-04 17:00:00| 143|2078.5999999999995|           135|\n",
      "|2020-01-28 19:00:00| 238| 3897.219999999997|           247|\n",
      "|2020-01-08 08:00:00|  68| 3530.239999999997|           223|\n",
      "|2020-01-20 13:00:00| 163| 6030.090000000006|           345|\n",
      "|2020-01-21 08:00:00| 113| 3592.989999999998|           225|\n",
      "|2020-01-20 19:00:00|  48|4079.8999999999974|           262|\n",
      "|2020-01-26 12:00:00| 113| 2891.249999999999|           196|\n",
      "|2020-01-21 20:00:00| 132|26911.159999999985|           498|\n",
      "|2020-01-14 13:00:00| 238| 3767.769999999997|           246|\n",
      "|2020-01-04 18:00:00| 186| 6382.860000000008|           366|\n",
      "|2020-01-15 23:00:00|   4|            205.26|            12|\n",
      "|2020-01-09 17:00:00| 164| 5335.370000000001|           315|\n",
      "|2020-01-02 22:00:00| 140|1302.4499999999998|            73|\n",
      "|2020-01-02 14:00:00| 163|5962.8000000000075|           335|\n",
      "|2020-01-15 09:00:00| 238|           4803.91|           287|\n",
      "+-------------------+----+------------------+--------------+\n",
      "only showing top 20 rows\n",
      "\n"
     ]
    },
    {
     "name": "stderr",
     "output_type": "stream",
     "text": [
      "\r",
      "                                                                                \r"
     ]
    }
   ],
   "source": [
    "df_yellow_revenue.show()"
   ]
  },
  {
   "cell_type": "markdown",
   "id": "1de9f070",
   "metadata": {},
   "source": [
    "### Understanding JOIN in Spark"
   ]
  },
  {
   "cell_type": "code",
   "execution_count": 45,
   "id": "47c85330",
   "metadata": {},
   "outputs": [],
   "source": [
    "df_yellow_revenue = spark.read.parquet('data/report/revenue/yellow')\n",
    "df_green_revenue = spark.read.parquet('data/report/revenue/green')"
   ]
  },
  {
   "cell_type": "code",
   "execution_count": 54,
   "id": "0fcc76aa",
   "metadata": {},
   "outputs": [],
   "source": [
    "df_green_revenue_tmp = df_green_revenue \\\n",
    "    .withColumnRenamed('amount', 'green_amount') \\\n",
    "    .withColumnRenamed('number_records', 'green_number_records')\n",
    "    \n",
    "df_yellow_revenue_tmp = df_yellow_revenue \\\n",
    "    .withColumnRenamed('amount', 'yellow_amount') \\\n",
    "    .withColumnRenamed('number_records', 'yellow_number_records')"
   ]
  },
  {
   "cell_type": "code",
   "execution_count": 55,
   "id": "87661c3a",
   "metadata": {},
   "outputs": [],
   "source": [
    "df_join = df_yellow_revenue_tmp.join(df_green_revenue_tmp, on=['hour', 'zone'], how='outer')"
   ]
  },
  {
   "cell_type": "code",
   "execution_count": 22,
   "id": "990e8fa0",
   "metadata": {},
   "outputs": [
    {
     "name": "stderr",
     "output_type": "stream",
     "text": [
      "[Stage 21:====================================================>   (15 + 1) / 16]\r"
     ]
    },
    {
     "name": "stdout",
     "output_type": "stream",
     "text": [
      "+-------------------+----+------------------+---------------------+------------------+--------------------+\n",
      "|               hour|zone|     yellow_amount|yellow_number_records|      green_amount|green_number_records|\n",
      "+-------------------+----+------------------+---------------------+------------------+--------------------+\n",
      "|2020-01-01 01:00:00|  24| 783.9000000000002|                   44|            126.42|                   6|\n",
      "|2020-01-01 01:00:00| 242|              null|                 null|             30.94|                   2|\n",
      "|2020-01-01 04:00:00| 202|              42.1|                    2|              null|                null|\n",
      "|2020-01-01 05:00:00|  71|             49.71|                    1|              null|                null|\n",
      "|2020-01-01 05:00:00| 244|185.16999999999996|                   17|             25.26|                   2|\n",
      "|2020-01-01 07:00:00|  48|2857.2099999999973|                  120|              null|                null|\n",
      "|2020-01-01 07:00:00| 112|              57.3|                    1|             66.76|                   3|\n",
      "|2020-01-01 07:00:00| 179|119.04999999999998|                    7|              null|                null|\n",
      "|2020-01-01 09:00:00|  93|            287.46|                    4|              null|                null|\n",
      "|2020-01-01 10:00:00| 169|              19.1|                    2|              6.12|                   1|\n",
      "|2020-01-01 11:00:00| 193|            105.66|                    4|              14.3|                   2|\n",
      "|2020-01-01 15:00:00|  25|             14.52|                    1|            192.12|                  11|\n",
      "|2020-01-01 19:00:00| 196|             152.8|                    2|36.400000000000006|                   3|\n",
      "|2020-01-01 21:00:00| 157|             61.42|                    1|              null|                null|\n",
      "|2020-01-02 03:00:00| 143|             82.78|                    4|              null|                null|\n",
      "|2020-01-02 04:00:00| 262|159.72000000000003|                    6|              null|                null|\n",
      "|2020-01-02 07:00:00| 241|             30.48|                    1|176.26999999999998|                   4|\n",
      "|2020-01-02 08:00:00| 217|              20.3|                    1|              49.9|                   2|\n",
      "|2020-01-02 10:00:00| 131|             47.69|                    1|186.32000000000002|                   8|\n",
      "|2020-01-02 11:00:00| 211|1003.1400000000002|                   59|              null|                null|\n",
      "+-------------------+----+------------------+---------------------+------------------+--------------------+\n",
      "only showing top 20 rows\n",
      "\n"
     ]
    },
    {
     "name": "stderr",
     "output_type": "stream",
     "text": [
      "\r",
      "                                                                                \r"
     ]
    }
   ],
   "source": [
    "df_join.show()"
   ]
  },
  {
   "cell_type": "code",
   "execution_count": 56,
   "id": "86f1f289",
   "metadata": {},
   "outputs": [
    {
     "name": "stderr",
     "output_type": "stream",
     "text": [
      "                                                                                \r"
     ]
    }
   ],
   "source": [
    "df_join \\\n",
    "    .write.parquet('data/report/revenue/total', mode='overwrite')"
   ]
  },
  {
   "cell_type": "code",
   "execution_count": 28,
   "id": "cc2c7419",
   "metadata": {},
   "outputs": [],
   "source": [
    "df_join = spark.read.parquet('data/report/revenue/total')"
   ]
  },
  {
   "cell_type": "code",
   "execution_count": 29,
   "id": "132ee9bf",
   "metadata": {},
   "outputs": [
    {
     "name": "stdout",
     "output_type": "stream",
     "text": [
      "+-------------------+----+------------------+---------------------+------------------+--------------------+\n",
      "|               hour|zone|     yellow_amount|yellow_number_records|      green_amount|green_number_records|\n",
      "+-------------------+----+------------------+---------------------+------------------+--------------------+\n",
      "|2020-01-01 00:00:00| 233|2028.8199999999983|                  121|              null|                null|\n",
      "|2020-01-01 01:00:00| 159|148.89999999999998|                    8|33.900000000000006|                   3|\n",
      "|2020-01-01 03:00:00| 162|2134.1399999999985|                  126|              null|                null|\n",
      "|2020-01-01 03:00:00| 196|              34.1|                    2|             34.66|                   2|\n",
      "|2020-01-01 05:00:00|  56|             73.67|                    1|              8.84|                   1|\n",
      "|2020-01-01 05:00:00|  68|1825.1899999999994|                   90|              null|                null|\n",
      "|2020-01-01 05:00:00| 237|409.46000000000004|                   25|              null|                null|\n",
      "|2020-01-01 08:00:00|  76|              null|                 null|             50.35|                   2|\n",
      "|2020-01-01 08:00:00| 255|              25.6|                    2|               5.3|                   1|\n",
      "|2020-01-01 09:00:00|  48|1902.3899999999985|                  114|              null|                null|\n",
      "|2020-01-01 11:00:00| 213|              17.3|                    1|              null|                null|\n",
      "|2020-01-01 12:00:00| 138| 7852.000000000005|                  205|              null|                null|\n",
      "|2020-01-01 13:00:00|  49|               6.8|                    1|             80.55|                   4|\n",
      "|2020-01-01 14:00:00|  17|               7.3|                    1|             43.97|                   3|\n",
      "|2020-01-01 15:00:00| 119|              null|                 null|             36.18|                   2|\n",
      "|2020-01-01 15:00:00| 174|              null|                 null|              43.1|                   2|\n",
      "|2020-01-01 16:00:00|  71|              5.45|                    1|              null|                null|\n",
      "|2020-01-01 17:00:00| 235|            106.55|                    2|               6.3|                   1|\n",
      "|2020-01-01 19:00:00|  49|42.099999999999994|                    2| 58.06999999999999|                   3|\n",
      "|2020-01-01 20:00:00|  92|              null|                 null|116.57000000000001|                   5|\n",
      "+-------------------+----+------------------+---------------------+------------------+--------------------+\n",
      "only showing top 20 rows\n",
      "\n"
     ]
    }
   ],
   "source": [
    "df_join.show()"
   ]
  },
  {
   "cell_type": "markdown",
   "id": "9db6d06a",
   "metadata": {},
   "source": [
    "### Joining Zone File"
   ]
  },
  {
   "cell_type": "code",
   "execution_count": 37,
   "id": "d5e624c0",
   "metadata": {},
   "outputs": [
    {
     "name": "stdout",
     "output_type": "stream",
     "text": [
      "+----------+-------------+--------------------+------------+\n",
      "|LocationID|      Borough|           Zone_name|service_zone|\n",
      "+----------+-------------+--------------------+------------+\n",
      "|         1|          EWR|      Newark Airport|         EWR|\n",
      "|         2|       Queens|         Jamaica Bay|   Boro Zone|\n",
      "|         3|        Bronx|Allerton/Pelham G...|   Boro Zone|\n",
      "|         4|    Manhattan|       Alphabet City| Yellow Zone|\n",
      "|         5|Staten Island|       Arden Heights|   Boro Zone|\n",
      "|         6|Staten Island|Arrochar/Fort Wad...|   Boro Zone|\n",
      "|         7|       Queens|             Astoria|   Boro Zone|\n",
      "|         8|       Queens|        Astoria Park|   Boro Zone|\n",
      "|         9|       Queens|          Auburndale|   Boro Zone|\n",
      "|        10|       Queens|        Baisley Park|   Boro Zone|\n",
      "|        11|     Brooklyn|          Bath Beach|   Boro Zone|\n",
      "|        12|    Manhattan|        Battery Park| Yellow Zone|\n",
      "|        13|    Manhattan|   Battery Park City| Yellow Zone|\n",
      "|        14|     Brooklyn|           Bay Ridge|   Boro Zone|\n",
      "|        15|       Queens|Bay Terrace/Fort ...|   Boro Zone|\n",
      "|        16|       Queens|             Bayside|   Boro Zone|\n",
      "|        17|     Brooklyn|             Bedford|   Boro Zone|\n",
      "|        18|        Bronx|        Bedford Park|   Boro Zone|\n",
      "|        19|       Queens|           Bellerose|   Boro Zone|\n",
      "|        20|        Bronx|             Belmont|   Boro Zone|\n",
      "+----------+-------------+--------------------+------------+\n",
      "only showing top 20 rows\n",
      "\n"
     ]
    }
   ],
   "source": [
    "df_zones = spark.read.parquet('zones')\n",
    "df_zones = df_zones \\\n",
    "    .withColumnRenamed('Zone', 'Zone_name')\n",
    "df_zones.show()"
   ]
  },
  {
   "cell_type": "code",
   "execution_count": 38,
   "id": "e68583d4",
   "metadata": {},
   "outputs": [],
   "source": [
    "df_result = df_join.join(df_zones, df_join.zone == df_zones.LocationID)"
   ]
  },
  {
   "cell_type": "code",
   "execution_count": 39,
   "id": "97c1a04d",
   "metadata": {},
   "outputs": [
    {
     "name": "stdout",
     "output_type": "stream",
     "text": [
      "+-------------------+----+------------------+---------------------+------------------+--------------------+----------+---------+--------------------+------------+\n",
      "|               hour|zone|     yellow_amount|yellow_number_records|      green_amount|green_number_records|LocationID|  Borough|           Zone_name|service_zone|\n",
      "+-------------------+----+------------------+---------------------+------------------+--------------------+----------+---------+--------------------+------------+\n",
      "|2020-01-01 00:00:00| 233|2028.8199999999983|                  121|              null|                null|       233|Manhattan| UN/Turtle Bay South| Yellow Zone|\n",
      "|2020-01-01 01:00:00| 159|148.89999999999998|                    8|33.900000000000006|                   3|       159|    Bronx|       Melrose South|   Boro Zone|\n",
      "|2020-01-01 03:00:00| 162|2134.1399999999985|                  126|              null|                null|       162|Manhattan|        Midtown East| Yellow Zone|\n",
      "|2020-01-01 03:00:00| 196|              34.1|                    2|             34.66|                   2|       196|   Queens|           Rego Park|   Boro Zone|\n",
      "|2020-01-01 05:00:00|  56|             73.67|                    1|              8.84|                   1|        56|   Queens|              Corona|   Boro Zone|\n",
      "|2020-01-01 05:00:00|  68|1825.1899999999994|                   90|              null|                null|        68|Manhattan|        East Chelsea| Yellow Zone|\n",
      "|2020-01-01 05:00:00| 237|409.46000000000004|                   25|              null|                null|       237|Manhattan|Upper East Side S...| Yellow Zone|\n",
      "|2020-01-01 08:00:00|  76|              null|                 null|             50.35|                   2|        76| Brooklyn|       East New York|   Boro Zone|\n",
      "|2020-01-01 08:00:00| 255|              25.6|                    2|               5.3|                   1|       255| Brooklyn|Williamsburg (Nor...|   Boro Zone|\n",
      "|2020-01-01 09:00:00|  48|1902.3899999999985|                  114|              null|                null|        48|Manhattan|        Clinton East| Yellow Zone|\n",
      "|2020-01-01 11:00:00| 213|              17.3|                    1|              null|                null|       213|    Bronx|Soundview/Castle ...|   Boro Zone|\n",
      "|2020-01-01 12:00:00| 138| 7852.000000000005|                  205|              null|                null|       138|   Queens|   LaGuardia Airport|    Airports|\n",
      "|2020-01-01 13:00:00|  49|               6.8|                    1|             80.55|                   4|        49| Brooklyn|        Clinton Hill|   Boro Zone|\n",
      "|2020-01-01 14:00:00|  17|               7.3|                    1|             43.97|                   3|        17| Brooklyn|             Bedford|   Boro Zone|\n",
      "|2020-01-01 15:00:00| 119|              null|                 null|             36.18|                   2|       119|    Bronx|          Highbridge|   Boro Zone|\n",
      "|2020-01-01 15:00:00| 174|              null|                 null|              43.1|                   2|       174|    Bronx|             Norwood|   Boro Zone|\n",
      "|2020-01-01 16:00:00|  71|              5.45|                    1|              null|                null|        71| Brooklyn|East Flatbush/Far...|   Boro Zone|\n",
      "|2020-01-01 17:00:00| 235|            106.55|                    2|               6.3|                   1|       235|    Bronx|University Height...|   Boro Zone|\n",
      "|2020-01-01 19:00:00|  49|42.099999999999994|                    2| 58.06999999999999|                   3|        49| Brooklyn|        Clinton Hill|   Boro Zone|\n",
      "|2020-01-01 20:00:00|  92|              null|                 null|116.57000000000001|                   5|        92|   Queens|            Flushing|   Boro Zone|\n",
      "+-------------------+----+------------------+---------------------+------------------+--------------------+----------+---------+--------------------+------------+\n",
      "only showing top 20 rows\n",
      "\n"
     ]
    }
   ],
   "source": [
    "df_result.show()"
   ]
  },
  {
   "cell_type": "code",
   "execution_count": 44,
   "id": "6caf67b7",
   "metadata": {},
   "outputs": [
    {
     "name": "stderr",
     "output_type": "stream",
     "text": [
      "                                                                                \r"
     ]
    }
   ],
   "source": [
    "df_result.drop('zone').write.parquet('tmp/revenue-zones', mode='overwrite')"
   ]
  },
  {
   "cell_type": "code",
   "execution_count": 43,
   "id": "97248723",
   "metadata": {},
   "outputs": [
    {
     "name": "stdout",
     "output_type": "stream",
     "text": [
      "+-------------------+------------------+---------------------+------------------+--------------------+----------+---------+--------------------+------------+\n",
      "|               hour|     yellow_amount|yellow_number_records|      green_amount|green_number_records|LocationID|  Borough|           Zone_name|service_zone|\n",
      "+-------------------+------------------+---------------------+------------------+--------------------+----------+---------+--------------------+------------+\n",
      "|2020-01-01 00:00:00|2028.8199999999983|                  121|              null|                null|       233|Manhattan| UN/Turtle Bay South| Yellow Zone|\n",
      "|2020-01-01 01:00:00|148.89999999999998|                    8|33.900000000000006|                   3|       159|    Bronx|       Melrose South|   Boro Zone|\n",
      "|2020-01-01 03:00:00|2134.1399999999985|                  126|              null|                null|       162|Manhattan|        Midtown East| Yellow Zone|\n",
      "|2020-01-01 03:00:00|              34.1|                    2|             34.66|                   2|       196|   Queens|           Rego Park|   Boro Zone|\n",
      "|2020-01-01 05:00:00|             73.67|                    1|              8.84|                   1|        56|   Queens|              Corona|   Boro Zone|\n",
      "|2020-01-01 05:00:00|1825.1899999999994|                   90|              null|                null|        68|Manhattan|        East Chelsea| Yellow Zone|\n",
      "|2020-01-01 05:00:00|409.46000000000004|                   25|              null|                null|       237|Manhattan|Upper East Side S...| Yellow Zone|\n",
      "|2020-01-01 08:00:00|              null|                 null|             50.35|                   2|        76| Brooklyn|       East New York|   Boro Zone|\n",
      "|2020-01-01 08:00:00|              25.6|                    2|               5.3|                   1|       255| Brooklyn|Williamsburg (Nor...|   Boro Zone|\n",
      "|2020-01-01 09:00:00|1902.3899999999985|                  114|              null|                null|        48|Manhattan|        Clinton East| Yellow Zone|\n",
      "|2020-01-01 11:00:00|              17.3|                    1|              null|                null|       213|    Bronx|Soundview/Castle ...|   Boro Zone|\n",
      "|2020-01-01 12:00:00| 7852.000000000005|                  205|              null|                null|       138|   Queens|   LaGuardia Airport|    Airports|\n",
      "|2020-01-01 13:00:00|               6.8|                    1|             80.55|                   4|        49| Brooklyn|        Clinton Hill|   Boro Zone|\n",
      "|2020-01-01 14:00:00|               7.3|                    1|             43.97|                   3|        17| Brooklyn|             Bedford|   Boro Zone|\n",
      "|2020-01-01 15:00:00|              null|                 null|             36.18|                   2|       119|    Bronx|          Highbridge|   Boro Zone|\n",
      "|2020-01-01 15:00:00|              null|                 null|              43.1|                   2|       174|    Bronx|             Norwood|   Boro Zone|\n",
      "|2020-01-01 16:00:00|              5.45|                    1|              null|                null|        71| Brooklyn|East Flatbush/Far...|   Boro Zone|\n",
      "|2020-01-01 17:00:00|            106.55|                    2|               6.3|                   1|       235|    Bronx|University Height...|   Boro Zone|\n",
      "|2020-01-01 19:00:00|42.099999999999994|                    2| 58.06999999999999|                   3|        49| Brooklyn|        Clinton Hill|   Boro Zone|\n",
      "|2020-01-01 20:00:00|              null|                 null|116.57000000000001|                   5|        92|   Queens|            Flushing|   Boro Zone|\n",
      "+-------------------+------------------+---------------------+------------------+--------------------+----------+---------+--------------------+------------+\n",
      "only showing top 20 rows\n",
      "\n"
     ]
    }
   ],
   "source": [
    "df_result_tmp = spark.read.parquet('tmp/revenue-zones/')\n",
    "df_result_tmp.show()"
   ]
  },
  {
   "cell_type": "code",
   "execution_count": null,
   "id": "3eda832e",
   "metadata": {},
   "outputs": [],
   "source": []
  }
 ],
 "metadata": {
  "kernelspec": {
   "display_name": "Python 3 (ipykernel)",
   "language": "python",
   "name": "python3"
  },
  "language_info": {
   "codemirror_mode": {
    "name": "ipython",
    "version": 3
   },
   "file_extension": ".py",
   "mimetype": "text/x-python",
   "name": "python",
   "nbconvert_exporter": "python",
   "pygments_lexer": "ipython3",
   "version": "3.9.7"
  }
 },
 "nbformat": 4,
 "nbformat_minor": 5
}
